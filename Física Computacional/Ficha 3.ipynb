{
 "cells": [
  {
   "cell_type": "markdown",
   "metadata": {
    "ein.tags": [
     "worksheet-0"
    ]
   },
   "source": [
    "Ficha 3 - Integração e Diferenciação Numérica"
   ]
  },
  {
   "cell_type": "code",
   "execution_count": 28,
   "metadata": {
    "autoscroll": "json-false",
    "collapsed": false,
    "ein.tags": [
     "worksheet-0"
    ]
   },
   "outputs": [],
   "source": [
    "from numpy import sin, cos, tan, pi, e, exp, log, copy, linspace\n",
    "from sympy import pprint, Symbol\n",
    "from numpy.polynomial.legendre import leggauss"
   ]
  },
  {
   "cell_type": "code",
   "execution_count": 2,
   "metadata": {
    "autoscroll": "json-false",
    "collapsed": false,
    "ein.tags": [
     "worksheet-0"
    ]
   },
   "outputs": [],
   "source": [
    "n_list = [2, 4, 8, 10, 20, 30, 50, 100]\n",
    "gauss_legendre_n_list = [2, 3, 4, 5, 8, 10, 12, 20, 24, 30, 48, 50, 75, 96, 100, 500, 1000]"
   ]
  },
  {
   "cell_type": "code",
   "execution_count": 3,
   "metadata": {
    "autoscroll": "json-false",
    "collapsed": false,
    "ein.tags": [
     "worksheet-0"
    ]
   },
   "outputs": [],
   "source": [
    "x = Symbol('x')\n",
    "y = Symbol('y')"
   ]
  },
  {
   "cell_type": "code",
   "execution_count": 4,
   "metadata": {
    "autoscroll": "json-false",
    "collapsed": false,
    "ein.tags": [
     "worksheet-0"
    ]
   },
   "outputs": [],
   "source": [
    "f1 = lambda x: sin(x)\n",
    "f2 = lambda x: exp(x) * cos(x)\n",
    "\n",
    "f1_sol = 2\n",
    "f2_sol = -(exp(pi) + 1) / 2"
   ]
  },
  {
   "cell_type": "code",
   "execution_count": 5,
   "metadata": {
    "autoscroll": "json-false",
    "collapsed": false,
    "ein.tags": [
     "worksheet-0"
    ]
   },
   "outputs": [],
   "source": [
    "trapezios_simples = lambda f, a, b: (b-a)/2 * (f(a) + f(b))\n",
    "simpson13_simples = lambda f, a, b: (b-a)/3 * (f(a) + 4*f((a + b)/2) + f(b))\n",
    "simpson38_simples = lambda f, a, b: (3/8)*(b-a) * (f(a) + 3*f((2*a + b)/3) + 3*f((a + 2*b)/3) + f(b))"
   ]
  },
  {
   "cell_type": "code",
   "execution_count": 6,
   "metadata": {
    "autoscroll": "json-false",
    "collapsed": false,
    "ein.tags": [
     "worksheet-0"
    ]
   },
   "outputs": [],
   "source": [
    "def trapezios_composta(f, a, b, n):\n",
    "    h = (b-a)/n\n",
    "    xi = a\n",
    "    s_int = 0\n",
    "    for i in range(n):\n",
    "        s_int += f(xi) + f(xi+h)\n",
    "        xi += h\n",
    "    s_int *= h/2\n",
    "    return s_int\n",
    "\n",
    "\n",
    "def simpson13_composta(f, a, b, n):\n",
    "    h = (b-a)/n\n",
    "    x = linspace(a, b, n+1)\n",
    "    s_int = 0\n",
    "    for i in range(0, n, 2):\n",
    "        s_int += f(x[i]) + 4*f(x[i+1]) + f(x[i+2])\n",
    "    s_int *= h/3\n",
    "    return s_int"
   ]
  },
  {
   "cell_type": "code",
   "execution_count": 7,
   "metadata": {
    "autoscroll": "json-false",
    "collapsed": false,
    "ein.tags": [
     "worksheet-0"
    ]
   },
   "outputs": [],
   "source": [
    "from sympy import oo            # símbolo 'infinito'\n",
    "\n",
    "def gausslegendre(f, a, b, x_pts, w_pts):\n",
    "    x_gl = copy(x_pts)\n",
    "    w_gl = copy(w_pts)\n",
    "    def gl_sum(f, x_list, w_list):\n",
    "        s_int = 0\n",
    "        for x, w in zip(x_list, w_list):\n",
    "            s_int += w * f(x)\n",
    "        return s_int\n",
    "    if (a == -1 and b == 1): return gl_sum(f, x_gl, w_gl)\n",
    "    elif (a == 0 and b == oo):\n",
    "        x_inf = list(map(lambda x: tan( pi/4 * (1+x)), copy(x_pts)))\n",
    "        w_inf = list(map(lambda w, x: pi/4 * w/(cos(pi/4 * (1+x)))**2, copy(w_pts), copy(x_pts)))\n",
    "        return gl_sum(f, x_inf, w_inf)\n",
    "\n",
    "    else:\n",
    "        h = (b-a)/2\n",
    "        xi = list(map(lambda x: h * (x + 1) + a, x_gl))\n",
    "        return h * gl_sum(f, xi, w_gl)"
   ]
  },
  {
   "cell_type": "code",
   "execution_count": 8,
   "metadata": {
    "autoscroll": "json-false",
    "collapsed": false,
    "ein.tags": [
     "worksheet-0"
    ]
   },
   "outputs": [],
   "source": [
    "def gauss_legendre(f, x_pts, w_pts):\n",
    "    x_gl = copy(x_pts)\n",
    "    w_gl = copy(w_pts)\n",
    "    s_int = 0\n",
    "    for x, w in zip(x_gl, w_gl):\n",
    "        s_int += w * f(x)\n",
    "    return s_int\n",
    "        \n",
    "def gauss_legendre_ab(f, a, b, x_pts, w_pts):\n",
    "    w_gl_ab = copy(w_pts)\n",
    "    x_gl_ab = copy(x_pts)\n",
    "    h = (b-a)/2\n",
    "    s_int = 0\n",
    "    for x, w in zip(x_gl_ab, w_gl_ab):\n",
    "        s_int += w * f(h * (x + 1) + a)\n",
    "        s_int *= h\n",
    "    return s_int\n",
    "    # x_gl_ab = list(map(lambda x: -1 + 2*(x-a)/(b-a), copy(x_pts)))\n",
    "    # return gausslegendre(f, x_gl_ab, w_pts)\n",
    "\n",
    "\n",
    "def gauss_legendre_0inf(f, x_pts, w_pts):\n",
    "    x_gl_0inf = copy(x_pts)\n",
    "    w_gl_0inf = copy(w_pts)\n",
    "    s_int = 0\n",
    "    for x, w in zip(x_gl_0inf, w_gl_0inf):\n",
    "        x_gl_0inf = list(map(lambda x: tan( pi/4 * (1+x)), copy(x_pts)))\n",
    "        w_gl_0inf = list(map(lambda w, x: pi/4 * w/(cos(pi/4 * (1+x)))**2, copy(w_pts), copy(x_pts)))\n",
    "    return gausslegendre(f, x_gl_0inf, w_gl_0inf)"
   ]
  },
  {
   "cell_type": "code",
   "execution_count": 9,
   "metadata": {
    "autoscroll": "json-false",
    "collapsed": false,
    "ein.tags": [
     "worksheet-0"
    ]
   },
   "outputs": [],
   "source": [
    "def erro_rel(est, real): return abs((est-real)/real) * 100\n",
    "\n",
    "def aval_simples(f, a, b, real_value):\n",
    "    print('Utilizando o método:')\n",
    "    trap_si = trapezios_simples(f, a, b)\n",
    "    print('Trapézio Simples: ' + str(trap_si) + '   Erro Relativo: ' + str(erro_rel(trap_si, real_value)) + ' %')\n",
    "\n",
    "    simps13_si = simpson13_simples(f, a, b)\n",
    "    print('Simpson 1/3 Simples: ' + str(simps13_si) + '   Erro Relativo: ' + str(erro_rel(simps13_si, real_value)) + ' %')\n",
    "\n",
    "    simps38_si =  simpson38_simples(f, a, b)\n",
    "    print('Simpson 3/8 Simples: ' + str(simps38_si) + '   Erro Relativo: ' + str(erro_rel(simps38_si, real_value)) + ' %')\n"
   ]
  },
  {
   "cell_type": "code",
   "execution_count": 10,
   "metadata": {
    "autoscroll": "json-false",
    "collapsed": false,
    "ein.tags": [
     "worksheet-0"
    ]
   },
   "outputs": [],
   "source": [
    "def aval_composta(f, a, b, n, x_n, w_n, real_value):\n",
    "    print('Utilizando os métodos: [N = ' + str(n) + '] \\n')\n",
    "\n",
    "    trap_c = trapezios_composta(f, a, b, n)\n",
    "    print('Trapézios Composta: ' + str(trap_c) + '   Erro Relativo: ' + str(erro_rel(trap_c, real_value)))\n",
    "\n",
    "    simp_13_c = simpson13_composta(f, a, b, n)\n",
    "    print('Simpson Composta: ' + str(simp_13_c) + '   Erro Relativo: ' + str(erro_rel(simp_13_c, real_value)))\n",
    "\n",
    "    gaule_ab = gausslegendre(f, a, b, x_n, w_n)\n",
    "    print('Gauss-Legendre: ' + str(gaule_ab) + '   Erro Relativo: ' + str(erro_rel(gaule_ab, real_value)))\n",
    "    print('\\n')"
   ]
  },
  {
   "cell_type": "markdown",
   "metadata": {
    "ein.tags": [
     "worksheet-0"
    ]
   },
   "source": [
    "Integrando $\\sin (x)$"
   ]
  },
  {
   "cell_type": "code",
   "execution_count": 11,
   "metadata": {
    "autoscroll": "json-false",
    "collapsed": false,
    "ein.tags": [
     "worksheet-0"
    ]
   },
   "outputs": [
    {
     "name": "stdout",
     "output_type": "stream",
     "text": [
      "Utilizando o método:\n",
      "Trapézio Simples: 1.92367069372e-16   Erro Relativo: 100.0 %\n",
      "Simpson 1/3 Simples: 4.18879020479   Erro Relativo: 109.439510239 %\n",
      "Simpson 3/8 Simples: 6.12157285429   Erro Relativo: 206.078642715 %\n"
     ]
    }
   ],
   "source": [
    "aval_simples(f1, 0, pi, f1_sol)"
   ]
  },
  {
   "cell_type": "code",
   "execution_count": 12,
   "metadata": {
    "autoscroll": "json-false",
    "collapsed": false,
    "ein.tags": [
     "worksheet-0"
    ]
   },
   "outputs": [
    {
     "name": "stdout",
     "output_type": "stream",
     "text": [
      "Utilizando os métodos: [N = 2] \n",
      "\n",
      "Trapézios Composta: 1.57079632679   Erro Relativo: 21.4601836603\n",
      "Simpson Composta: 2.09439510239   Erro Relativo: 4.71975511966\n",
      "Gauss-Legendre: 1.93581957465   Erro Relativo: 3.20902126744\n",
      "\n",
      "\n",
      "Utilizando os métodos: [N = 4] \n",
      "\n",
      "Trapézios Composta: 1.89611889794   Erro Relativo: 5.19405510315\n",
      "Simpson Composta: 2.00455975498   Erro Relativo: 0.227987749221\n",
      "Gauss-Legendre: 1.99998422846   Erro Relativo: 0.000788577113897\n",
      "\n",
      "\n",
      "Utilizando os métodos: [N = 8] \n",
      "\n",
      "Trapézios Composta: 1.97423160195   Erro Relativo: 1.28841990272\n",
      "Simpson Composta: 2.00026916995   Erro Relativo: 0.0134584974194\n",
      "Gauss-Legendre: 2.0   Erro Relativo: 2.77555756156e-13\n",
      "\n",
      "\n",
      "Utilizando os métodos: [N = 10] \n",
      "\n",
      "Trapézios Composta: 1.98352353751   Erro Relativo: 0.823823124527\n",
      "Simpson Composta: 2.00010951732   Erro Relativo: 0.00547586575022\n",
      "Gauss-Legendre: 2.0   Erro Relativo: 2.22044604925e-14\n",
      "\n",
      "\n",
      "Utilizando os métodos: [N = 20] \n",
      "\n",
      "Trapézios Composta: 1.99588597271   Erro Relativo: 0.205701364564\n",
      "Simpson Composta: 2.00000678444   Erro Relativo: 0.000339222090062\n",
      "Gauss-Legendre: 2.0   Erro Relativo: 8.881784197e-14\n",
      "\n",
      "\n",
      "Utilizando os métodos: [N = 30] \n",
      "\n",
      "Trapézios Composta: 1.99817196134   Erro Relativo: 0.0914019328173\n",
      "Simpson Composta: 2.00000133795   Erro Relativo: 6.6897397466e-05\n",
      "Gauss-Legendre: 2.0   Erro Relativo: 3.10862446895e-13\n",
      "\n",
      "\n",
      "Utilizando os métodos: [N = 50] \n",
      "\n",
      "Trapézios Composta: 1.99934198308   Erro Relativo: 0.032900846187\n",
      "Simpson Composta: 2.00000017325   Erro Relativo: 8.66265694732e-06\n",
      "Gauss-Legendre: 2.0   Erro Relativo: 4.10782519111e-13\n",
      "\n",
      "\n",
      "Utilizando os métodos: [N = 100] \n",
      "\n",
      "Trapézios Composta: 1.99983550389   Erro Relativo: 0.00822480562771\n",
      "Simpson Composta: 2.00000001082   Erro Relativo: 5.41225197992e-07\n",
      "Gauss-Legendre: 2.0   Erro Relativo: 3.99680288865e-13\n",
      "\n",
      "\n"
     ]
    }
   ],
   "source": [
    "for n in n_list:\n",
    "    x_i, w_i = leggauss(n)\n",
    "    aval_composta(f1, 0, pi, n, x_i, w_i, f1_sol)"
   ]
  },
  {
   "cell_type": "markdown",
   "metadata": {
    "ein.tags": [
     "worksheet-0"
    ]
   },
   "source": [
    "Integrando $e^{x} \\cos (x)$"
   ]
  },
  {
   "cell_type": "code",
   "execution_count": 13,
   "metadata": {
    "autoscroll": "json-false",
    "collapsed": false,
    "ein.tags": [
     "worksheet-0"
    ]
   },
   "outputs": [
    {
     "name": "stdout",
     "output_type": "stream",
     "text": [
      "Utilizando o método:\n",
      "Trapézio Simples: -34.7785186603   Erro Relativo: 188.131903996 %\n",
      "Simpson 1/3 Simples: -23.1856791068   Erro Relativo: 92.087935997 %\n",
      "Simpson 3/8 Simples: -35.3982912992   Erro Relativo: 193.266575551 %\n"
     ]
    }
   ],
   "source": [
    "aval_simples(f2, 0, pi, f2_sol)"
   ]
  },
  {
   "cell_type": "code",
   "execution_count": 14,
   "metadata": {
    "autoscroll": "json-false",
    "collapsed": false,
    "ein.tags": [
     "worksheet-0"
    ]
   },
   "outputs": [
    {
     "name": "stdout",
     "output_type": "stream",
     "text": [
      "Utilizando os métodos: [N = 100] \n",
      "\n",
      "Trapézios Composta: -12.0723318741   Erro Relativo: 0.0164498818044\n",
      "Simpson Composta: -12.0703460552   Erro Relativo: 2.16413765411e-06\n",
      "Gauss-Legendre: -12.0703463164   Erro Relativo: 8.68285389478e-13\n",
      "\n",
      "\n"
     ]
    }
   ],
   "source": [
    "for n in n_list:\n",
    "    x_i, w_i = leggauss(n)\n",
    "aval_composta(f2, 0, pi, n, x_i, w_i, f2_sol)"
   ]
  },
  {
   "cell_type": "code",
   "execution_count": 15,
   "metadata": {
    "autoscroll": "json-false",
    "collapsed": false,
    "ein.tags": [
     "worksheet-0"
    ]
   },
   "outputs": [],
   "source": [
    "xi, wi = leggauss(100)"
   ]
  },
  {
   "cell_type": "markdown",
   "metadata": {
    "ein.tags": [
     "worksheet-0"
    ]
   },
   "source": [
    "### Calcular o integral: ###\n",
    "\n",
    "$\\int _{0}^{\\infty} \\frac{x dx}{(1+x)^{4}}$"
   ]
  },
  {
   "cell_type": "code",
   "execution_count": 16,
   "metadata": {
    "autoscroll": "json-false",
    "collapsed": false,
    "ein.tags": [
     "worksheet-0"
    ]
   },
   "outputs": [
    {
     "data": {
      "text/plain": [
       "0.16666666666666732"
      ]
     },
     "execution_count": 16,
     "metadata": {},
     "output_type": "execute_result"
    }
   ],
   "source": [
    "f3 = lambda x: x / (1+x)**4\n",
    "gausslegendre(f3, 0, oo, xi, wi)"
   ]
  },
  {
   "cell_type": "markdown",
   "metadata": {
    "ein.tags": [
     "worksheet-0"
    ]
   },
   "source": [
    "Usando a transformação\n",
    "\n",
    "$x = \\frac{y}{1-y}$"
   ]
  },
  {
   "cell_type": "code",
   "execution_count": 26,
   "metadata": {
    "autoscroll": "json-false",
    "collapsed": false,
    "ein.tags": [
     "worksheet-0"
    ]
   },
   "outputs": [
    {
     "name": "stdout",
     "output_type": "stream",
     "text": [
      "-4.46366930931e+18\n",
      "-4.46668290624e+18\n"
     ]
    }
   ],
   "source": [
    "f3_1 = lambda y: f3(y/(1-y))\n",
    "print(gausslegendre(f3_1, 0, oo, xi, wi)) \n",
    "print(gausslegendre((lambda y: y - y**4), 0, oo, xi, wi))"
   ]
  },
  {
   "cell_type": "markdown",
   "metadata": {
    "ein.tags": [
     "worksheet-0"
    ]
   },
   "source": [
    "E depois a transformação\n",
    "\n",
    "$x = \\tan \\left[ \\frac{\\pi}{4} (1+y) \\right]$"
   ]
  },
  {
   "cell_type": "code",
   "execution_count": 18,
   "metadata": {
    "autoscroll": "json-false",
    "collapsed": false,
    "ein.tags": [
     "worksheet-0"
    ]
   },
   "outputs": [
    {
     "data": {
      "text/plain": [
       "-1865617957364.563"
      ]
     },
     "execution_count": 18,
     "metadata": {},
     "output_type": "execute_result"
    }
   ],
   "source": [
    "f3_2 = lambda y: f3(tan(pi/4 * (1+y)))\n",
    "gausslegendre(f3_2, 0, oo, xi, wi)"
   ]
  },
  {
   "cell_type": "markdown",
   "metadata": {
    "ein.tags": [
     "worksheet-0"
    ]
   },
   "source": [
    "#### Integral Duplo de ####\n",
    "\n",
    "$\\int _{0}^{1} \\left( \\int _{-\\sqrt{1-y^{2}}} ^{\\sqrt{1-y^{2}}} \\, dx \\right) dy$"
   ]
  },
  {
   "cell_type": "code",
   "execution_count": 23,
   "metadata": {
    "autoscroll": "json-false",
    "collapsed": false,
    "ein.tags": [
     "worksheet-0"
    ]
   },
   "outputs": [
    {
     "data": {
      "text/plain": [
       "1.5707966136937224"
      ]
     },
     "execution_count": 23,
     "metadata": {},
     "output_type": "execute_result"
    }
   ],
   "source": [
    "gausslegendre((lambda y: gausslegendre((lambda x: 1), -(1-y**2)**(1/2), (1-y**2)**(1/2) , xi, wi)), 0, 1, xi, wi)"
   ]
  },
  {
   "cell_type": "markdown",
   "metadata": {
    "ein.tags": [
     "worksheet-0"
    ]
   },
   "source": [
    "#### Integral Duplo de ####\n",
    "\n",
    "$\\int _{0}^{1} \\left( \\int _{-\\sqrt{1-y^{2}}} ^{\\sqrt{1-y^{2}}} e^{-xy} \\, dx \\right) dy$"
   ]
  },
  {
   "cell_type": "code",
   "execution_count": 21,
   "metadata": {
    "autoscroll": "json-false",
    "collapsed": false,
    "ein.tags": [
     "worksheet-0"
    ]
   },
   "outputs": [
    {
     "data": {
      "text/plain": [
       "1.6038298597579663"
      ]
     },
     "execution_count": 21,
     "metadata": {},
     "output_type": "execute_result"
    }
   ],
   "source": [
    "gausslegendre((lambda y: gausslegendre(lambda x: e**(-x*y), -(1-y**2)**(1/2), (1-y**2)**(1/2), xi, wi)), 0, 1, xi, wi)"
   ]
  },
  {
   "cell_type": "markdown",
   "metadata": {
    "ein.tags": [
     "worksheet-0"
    ]
   },
   "source": [
    "Derivar $e^{x} \\sin(x) + e^{-x} \\cos(x)$ nos pontos x = 0, $\\frac{\\pi}{4}$, $\\frac{\\pi}{2}$, $\\frac{3\\pi}{4}$ e $\\pi$.\n",
    "\n",
    "Fórmulas a 2, 3 e 5 pontos.\n",
    "\n",
    "h = 0.1, 0.05, 0.01"
   ]
  },
  {
   "cell_type": "code",
   "execution_count": 44,
   "metadata": {
    "autoscroll": "json-false",
    "collapsed": false,
    "ein.tags": [
     "worksheet-0"
    ]
   },
   "outputs": [],
   "source": [
    "f6 = lambda x: exp(x)*sin(x) + exp(-x)*cos(x)\n",
    "x_6 = [0, pi/4, pi/2, 3*pi/4, pi]\n",
    "h_6 = [0.1, 0.05, 0.01]"
   ]
  },
  {
   "cell_type": "code",
   "execution_count": 54,
   "metadata": {
    "autoscroll": "json-false",
    "collapsed": false,
    "ein.tags": [
     "worksheet-0"
    ]
   },
   "outputs": [],
   "source": [
    "df_2pts = lambda f, x, h: (f(x+h) - f(x)) / h\n",
    "df_3pts = lambda f, x, h: (-f(x + 2*h) + 4*f(x+h) - 3*f(x)) / (2*h)\n",
    "df_5pts = lambda f, x, h: (-3*f(x+4*h) + 16*f(x+3*h) - 36*f(x+2*h) + 48*f(x+h) - 25*f(x)) / (12*h)"
   ]
  },
  {
   "cell_type": "code",
   "execution_count": 56,
   "metadata": {
    "autoscroll": "json-false",
    "collapsed": false,
    "ein.tags": [
     "worksheet-0"
    ]
   },
   "outputs": [
    {
     "name": "stdout",
     "output_type": "stream",
     "text": [
      "                  \n",
      "Derivada de f(0) :\n",
      "com passo 'h' = 0.1 :\n",
      "Fórmula a 2 pontos: 0.106499885754\n",
      "Fórmula a 3 pontos: -0.0123298081793\n",
      "Fórmula a 5 pontos: 3.12839432937e-05\n",
      "com passo 'h' = 0.05 :\n",
      "Fórmula a 2 pontos: 0.0516458298118\n",
      "Fórmula a 3 pontos: -0.00320822613034\n",
      "Fórmula a 5 pontos: 9.08106774962e-07\n",
      "com passo 'h' = 0.01 :\n",
      "Fórmula a 2 pontos: 0.0100664999989\n",
      "Fórmula a 3 pontos: -0.000132333299807\n",
      "Fórmula a 5 pontos: 2.7154574885e-10\n",
      "                                   \n",
      "Derivada de f(0.7853981633974483) :\n",
      "com passo 'h' = 0.1 :\n",
      "Fórmula a 2 pontos: 2.6439799125\n",
      "Fórmula a 3 pontos: 2.45896668342\n",
      "Fórmula a 5 pontos: 2.45721835016\n",
      "com passo 'h' = 0.05 :\n",
      "Fórmula a 2 pontos: 2.55059697185\n",
      "Fórmula a 3 pontos: 2.45721403119\n",
      "Fórmula a 5 pontos: 2.45698635082\n",
      "com passo 'h' = 0.01 :\n",
      "Fórmula a 2 pontos: 2.4757049983\n",
      "Fórmula a 3 pontos: 2.45697439475\n",
      "Fórmula a 5 pontos: 2.4569725301\n",
      "                                   \n",
      "Derivada de f(1.5707963267948966) :\n",
      "com passo 'h' = 0.1 :\n",
      "Fórmula a 2 pontos: 4.60584080256\n",
      "Fórmula a 3 pontos: 4.64107895744\n",
      "Fórmula a 5 pontos: 4.60295744316\n",
      "com passo 'h' = 0.05 :\n",
      "Fórmula a 2 pontos: 4.60870864155\n",
      "Fórmula a 3 pontos: 4.61157648054\n",
      "Fórmula a 5 pontos: 4.60262078382\n",
      "com passo 'h' = 0.01 :\n",
      "Fórmula a 2 pontos: 4.60450851853\n",
      "Fórmula a 3 pontos: 4.60293719371\n",
      "Fórmula a 5 pontos: 4.60259784148\n",
      "                                  \n",
      "Derivada de f(2.356194490192345) :\n",
      "com passo 'h' = 0.1 :\n",
      "Fórmula a 2 pontos: -0.790761667598\n",
      "Fórmula a 3 pontos: 0.107734082419\n",
      "Fórmula a 5 pontos: -0.000236889565646\n",
      "com passo 'h' = 0.05 :\n",
      "Fórmula a 2 pontos: -0.382373291663\n",
      "Fórmula a 3 pontos: 0.0260150842714\n",
      "Fórmula a 5 pontos: -6.76293879565e-06\n",
      "com passo 'h' = 0.01 :\n",
      "Fórmula a 2 pontos: -0.0744377541176\n",
      "Fórmula a 3 pontos: 0.00101106099155\n",
      "Fórmula a 5 pontos: -2.00894116157e-09\n",
      "                                  \n",
      "Derivada de f(3.141592653589793) :\n",
      "com passo 'h' = 0.1 :\n",
      "Fórmula a 2 pontos: -25.4887408644\n",
      "Fórmula a 3 pontos: -22.9441198481\n",
      "Fórmula a 5 pontos: -23.100000536\n",
      "com passo 'h' = 0.05 :\n",
      "Fórmula a 2 pontos: -24.2738274751\n",
      "Fórmula a 3 pontos: -23.0589140858\n",
      "Fórmula a 5 pontos: -23.097614381\n",
      "com passo 'h' = 0.01 :\n",
      "Fórmula a 2 pontos: -23.3296584228\n",
      "Fórmula a 3 pontos: -23.0959332725\n",
      "Fórmula a 5 pontos: -23.0974789055\n"
     ]
    }
   ],
   "source": [
    "for x in x_6:\n",
    "    pprint('\\nDerivada de f(' + str(x) + ') :' )\n",
    "    for h in h_6:\n",
    "        print('com passo \\'h\\' = ' + str(h) + ' :')\n",
    "        print('Fórmula a 2 pontos: ' + str(df_2pts(f6, x, h)))\n",
    "        print('Fórmula a 3 pontos: ' + str(df_3pts(f6, x, h)))\n",
    "        print('Fórmula a 5 pontos: ' + str(df_5pts(f6, x, h)))"
   ]
  }
 ],
 "metadata": {
  "kernelspec": {
   "display_name": "Python 3",
   "name": "python3"
  },
  "language_info": {
   "codemirror_mode": {
    "name": "ipython",
    "version": 3
   },
   "file_extension": ".py",
   "mimetype": "text/x-python",
   "name": "python",
   "nbconvert_exporter": "python",
   "pygments_lexer": "ipython3",
   "version": "3.4.3+"
  },
  "name": "Ficha 3.ipynb"
 },
 "nbformat": 4,
 "nbformat_minor": 0
}
