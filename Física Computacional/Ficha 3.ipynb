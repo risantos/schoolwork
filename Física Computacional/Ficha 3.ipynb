{
 "cells": [
  {
   "cell_type": "markdown",
   "metadata": {
    "ein.tags": [
     "worksheet-0"
    ]
   },
   "source": [
    "Ficha 3 - Integração e Diferenciação Numérica"
   ]
  },
  {
   "cell_type": "code",
   "execution_count": 26,
   "metadata": {
    "autoscroll": "json-false",
    "collapsed": false,
    "ein.tags": [
     "worksheet-0"
    ]
   },
   "outputs": [],
   "source": [
    "from numpy import sin, cos, tan, pi, e, exp, copy, linspace\n",
    "from sympy import pprint, Symbol\n",
    "from numpy.polynomial.legendre import leggauss"
   ]
  },
  {
   "cell_type": "code",
   "execution_count": 2,
   "metadata": {
    "autoscroll": "json-false",
    "collapsed": false,
    "ein.tags": [
     "worksheet-0"
    ]
   },
   "outputs": [],
   "source": [
    "gauss_legendre_n_list = [2, 4, 8, 10, 20, 30, 50, 100, 500, 1000]"
   ]
  },
  {
   "cell_type": "code",
   "execution_count": 3,
   "metadata": {
    "autoscroll": "json-false",
    "collapsed": false,
    "ein.tags": [
     "worksheet-0"
    ]
   },
   "outputs": [],
   "source": [
    "x = Symbol('x')\n",
    "y = Symbol('y')\n",
    "f1 = lambda x: sin(x)\n",
    "f2 = lambda x: exp(x) * cos(x)\n",
    "num\n",
    "f1_sol = 2\n",
    "f2_sol = -(exp(pi) + 1) / 2"
   ]
  },
  {
   "cell_type": "code",
   "execution_count": 4,
   "metadata": {
    "autoscroll": "json-false",
    "collapsed": false,
    "ein.tags": [
     "worksheet-0"
    ]
   },
   "outputs": [],
   "source": [
    "trapezios_simples = lambda f, a, b: (b-a)/2 * (f(a) + f(b))\n",
    "simpson13_simples = lambda f, a, b: (b-a)/3 * (f(a) + 4*f((a + b)/2) + f(b))\n",
    "simpson38_simples = lambda f, a, b: (3/8)*(b-a) * (f(a) + 3*f((2*a + b)/3) + 3*f((a + 2*b)/3) + f(b))"
   ]
  },
  {
   "cell_type": "code",
   "execution_count": 5,
   "metadata": {
    "autoscroll": "json-false",
    "collapsed": false,
    "ein.tags": [
     "worksheet-0"
    ]
   },
   "outputs": [],
   "source": [
    "def trapezios_composta(f, a, b, n):\n",
    "h = (b-a)/n\n",
    "xi = a\n",
    "s_int = 0\n",
    "for i in range(n):\n",
    "s_int += f(xi) + f(xi+h)\n",
    "xi += h\n",
    "s_int *= h/2\n",
    "return s_int\n",
    "\n",
    "\n",
    "def simpson13_composta(f, a, b, n):\n",
    "h = (b-a)/n\n",
    "x = linspace(a, b, n+1)\n",
    "s_int = 0\n",
    "for i in range(0, n, 2):\n",
    "s_int += f(x[i]) + 4*f(x[i+1]) + f(x[i+2])\n",
    "s_int *= h/3\n",
    "return s_int"
   ]
  },
  {
   "cell_type": "code",
   "execution_count": 6,
   "metadata": {
    "autoscroll": "json-false",
    "collapsed": false,
    "ein.tags": [
     "worksheet-0"
    ]
   },
   "outputs": [],
   "source": [
    "def gausslegendre(f, x_pts, w_pts):\n",
    "x_gl = copy(x_pts)\n",
    "w_gl = copy(w_pts)\n",
    "s_int = 0\n",
    "for x, w in zip(x_gl, w_gl):\n",
    "s_int += w * f(x)\n",
    "return s_int\n",
    "\n",
    "\n",
    "def gauss_legendre_ab(f, a, b, x_pts, w_pts):\n",
    "w_gl_ab = copy(w_pts)\n",
    "x_gl_ab = copy(x_pts)\n",
    "h = (b-a)/2\n",
    "s_int = 0\n",
    "for x, w in zip(x_gl_ab, w_gl_ab):\n",
    "s_int += w * f(h * (x + 1) + a)\n",
    "s_int *= h\n",
    "return s_int\n",
    "# x_gl_ab = list(map(lambda x: -1 + 2*(x-a)/(b-a), copy(x_pts)))\n",
    "# return gausslegendre(f, x_gl_ab, w_pts)\n",
    "\n",
    "\n",
    "def gauss_legendre_0inf(f, x_pts, w_pts):\n",
    "x_gl_0inf = list(map(lambda x: tan( pi/4 * (1+x)), copy(x_pts)))\n",
    "w_gl_0inf = list(map(lambda w, x: pi/4 * w/(cos(pi/4 * (1+x)))**2, copy(w_pts), copy(x_pts)))\n",
    "return gausslegendre(f, x_gl_0inf, w_gl_0inf)"
   ]
  },
  {
   "cell_type": "code",
   "execution_count": 7,
   "metadata": {
    "autoscroll": "json-false",
    "collapsed": false,
    "ein.tags": [
     "worksheet-0"
    ]
   },
   "outputs": [],
   "source": [
    "def erro_rel(est, real): return abs((est-real)/real) * 100\n",
    "\n",
    "def aval_simples(f, a, b, real_value):\n",
    "print('Utilizando o método:')\n",
    "trap_si = trapezios_simples(f, a, b)\n",
    "print('Trapézio Simples: ' + str(trap_si) + '   Erro Relativo: ' + str(erro_rel(trap_si, real_value)) + ' %')\n",
    "\n",
    "simps13_si = simpson13_simples(f, a, b)\n",
    "print('Simpson 1/3 Simples: ' + str(simps13_si) + '   Erro Relativo: ' + str(erro_rel(simps13_si, real_value)) + ' %')\n",
    "\n",
    "simps38_si =  simpson38_simples(f, a, b)\n",
    "print('Simpson 3/8 Simples: ' + str(simps38_si) + '   Erro Relativo: ' + str(erro_rel(simps38_si, real_value)) + ' %')\n"
   ]
  },
  {
   "cell_type": "code",
   "execution_count": 8,
   "metadata": {
    "autoscroll": "json-false",
    "collapsed": false,
    "ein.tags": [
     "worksheet-0"
    ]
   },
   "outputs": [],
   "source": [
    "def aval_composta(f, a, b, n, x_n, w_n, real_value):\n",
    "print('Utilizando os métodos: [N = ' + str(n) + '] \\n')\n",
    "\n",
    "trap_c = trapezios_composta(f, a, b, n)\n",
    "print('Trapézios Composta: ' + str(trap_c) + '   Erro Relativo: ' + str(erro_rel(trap_c, real_value)))\n",
    "\n",
    "simp_13_c = simpson13_composta(f, a, b, n)\n",
    "print('Simpson Composta: ' + str(simp_13_c) + '   Erro Relativo: ' + str(erro_rel(simp_13_c, real_value)))\n",
    "\n",
    "gaule_ab = gauss_legendre_ab(f, a, b, x_n, w_n)\n",
    "print('Gauss-Legendre: ' + str(gaule_ab) + '   Erro Relativo: ' + str(erro_rel(gaule_ab, real_value)))\n",
    "print('\\n')"
   ]
  },
  {
   "cell_type": "markdown",
   "metadata": {
    "ein.tags": [
     "worksheet-0"
    ]
   },
   "source": [
    "Integrando $\\sin (x)$"
   ]
  },
  {
   "cell_type": "code",
   "execution_count": 9,
   "metadata": {
    "autoscroll": "json-false",
    "collapsed": false,
    "ein.tags": [
     "worksheet-0"
    ]
   },
   "outputs": [
    {
     "name": "stdout",
     "output_type": "stream",
     "text": [
      "Utilizando o método:\n",
      "Trapézio Simples: 1.92367069372e-16   Erro Relativo: 100.0 %\n",
      "Simpson 1/3 Simples: 4.18879020479   Erro Relativo: 109.439510239 %\n",
      "Simpson 3/8 Simples: 6.12157285429   Erro Relativo: 206.078642715 %\n"
     ]
    }
   ],
   "source": [
    "aval_simples(f1, 0, pi, f1_sol)"
   ]
  },
  {
   "cell_type": "code",
   "execution_count": 10,
   "metadata": {
    "autoscroll": "json-false",
    "collapsed": false,
    "ein.tags": [
     "worksheet-0"
    ]
   },
   "outputs": [
    {
     "name": "stdout",
     "output_type": "stream",
     "text": [
      "Utilizando os métodos: [N = 2] \n",
      "\n",
      "Trapézios Composta: 1.57079632679   Erro Relativo: 21.4601836603\n",
      "Simpson Composta: 2.09439510239   Erro Relativo: 4.71975511966\n",
      "Gauss-Legendre: 1.93581957465   Erro Relativo: 3.20902126744\n",
      "\n",
      "\n",
      "Utilizando os métodos: [N = 4] \n",
      "\n",
      "Trapézios Composta: 1.89611889794   Erro Relativo: 5.19405510315\n",
      "Simpson Composta: 2.00455975498   Erro Relativo: 0.227987749221\n",
      "Gauss-Legendre: 1.99998422846   Erro Relativo: 0.000788577113897\n",
      "\n",
      "\n",
      "Utilizando os métodos: [N = 8] \n",
      "\n",
      "Trapézios Composta: 1.97423160195   Erro Relativo: 1.28841990272\n",
      "Simpson Composta: 2.00026916995   Erro Relativo: 0.0134584974194\n",
      "Gauss-Legendre: 2.0   Erro Relativo: 2.77555756156e-13\n",
      "\n",
      "\n",
      "Utilizando os métodos: [N = 10] \n",
      "\n",
      "Trapézios Composta: 1.98352353751   Erro Relativo: 0.823823124527\n",
      "Simpson Composta: 2.00010951732   Erro Relativo: 0.00547586575022\n",
      "Gauss-Legendre: 2.0   Erro Relativo: 2.22044604925e-14\n",
      "\n",
      "\n",
      "Utilizando os métodos: [N = 20] \n",
      "\n",
      "Trapézios Composta: 1.99588597271   Erro Relativo: 0.205701364564\n",
      "Simpson Composta: 2.00000678444   Erro Relativo: 0.000339222090062\n",
      "Gauss-Legendre: 2.0   Erro Relativo: 8.881784197e-14\n",
      "\n",
      "\n",
      "Utilizando os métodos: [N = 30] \n",
      "\n",
      "Trapézios Composta: 1.99817196134   Erro Relativo: 0.0914019328173\n",
      "Simpson Composta: 2.00000133795   Erro Relativo: 6.6897397466e-05\n",
      "Gauss-Legendre: 2.0   Erro Relativo: 3.10862446895e-13\n",
      "\n",
      "\n",
      "Utilizando os métodos: [N = 50] \n",
      "\n",
      "Trapézios Composta: 1.99934198308   Erro Relativo: 0.032900846187\n",
      "Simpson Composta: 2.00000017325   Erro Relativo: 8.66265694732e-06\n",
      "Gauss-Legendre: 2.0   Erro Relativo: 4.10782519111e-13\n",
      "\n",
      "\n",
      "Utilizando os métodos: [N = 100] \n",
      "\n",
      "Trapézios Composta: 1.99983550389   Erro Relativo: 0.00822480562771\n",
      "Simpson Composta: 2.00000001082   Erro Relativo: 5.41225197992e-07\n",
      "Gauss-Legendre: 2.0   Erro Relativo: 3.99680288865e-13\n",
      "\n",
      "\n",
      "Utilizando os métodos: [N = 500] \n",
      "\n",
      "Trapézios Composta: 1.99999342026   Erro Relativo: 0.000328987030584\n",
      "Simpson Composta: 2.00000000002   Erro Relativo: 8.65907345826e-10\n",
      "Gauss-Legendre: 2.0   Erro Relativo: 2.17603712827e-12\n",
      "\n",
      "\n",
      "Utilizando os métodos: [N = 1000] \n"
     ]
    },
    {
     "name": "stdout",
     "output_type": "stream",
     "text": [
      "\n",
      "Trapézios Composta: 1.99999835507   Erro Relativo: 8.22467155936e-05\n",
      "Simpson Composta: 2.0   Erro Relativo: 5.40456568388e-11\n",
      "Gauss-Legendre: 2.0   Erro Relativo: 9.96980276113e-12\n",
      "\n",
      "\n"
     ]
    }
   ],
   "source": [
    "for n in gauss_legendre_n_list:\n",
    "x_i, w_i = leggauss(n)\n",
    "aval_composta(f1, 0, pi, n, x_i, w_i, f1_sol)"
   ]
  },
  {
   "cell_type": "markdown",
   "metadata": {
    "ein.tags": [
     "worksheet-0"
    ]
   },
   "source": [
    "Integrando $e^{x} \\cos (x)$"
   ]
  },
  {
   "cell_type": "code",
   "execution_count": 11,
   "metadata": {
    "autoscroll": "json-false",
    "collapsed": false,
    "ein.tags": [
     "worksheet-0"
    ]
   },
   "outputs": [
    {
     "name": "stdout",
     "output_type": "stream",
     "text": [
      "Utilizando o método:\n",
      "Trapézio Simples: -34.7785186603   Erro Relativo: 188.131903996 %\n",
      "Simpson 1/3 Simples: -23.1856791068   Erro Relativo: 92.087935997 %\n",
      "Simpson 3/8 Simples: -35.3982912992   Erro Relativo: 193.266575551 %\n"
     ]
    }
   ],
   "source": [
    "aval_simples(f2, 0, pi, f2_sol)"
   ]
  },
  {
   "cell_type": "code",
   "execution_count": 12,
   "metadata": {
    "autoscroll": "json-false",
    "collapsed": false,
    "ein.tags": [
     "worksheet-0"
    ]
   },
   "outputs": [
    {
     "name": "stdout",
     "output_type": "stream",
     "text": [
      "Utilizando os métodos: [N = 2] \n",
      "\n",
      "Trapézios Composta: -17.3892593301   Erro Relativo: 44.0659519978\n",
      "Simpson Composta: -11.5928395534   Erro Relativo: 3.9560320015\n",
      "Gauss-Legendre: -12.3362104657   Erro Relativo: 2.20262237998\n",
      "\n",
      "\n",
      "Utilizando os métodos: [N = 4] \n",
      "\n",
      "Trapézios Composta: -13.3360228474   Erro Relativo: 10.4858344393\n",
      "Simpson Composta: -11.9849440198   Erro Relativo: 0.707538080238\n",
      "Gauss-Legendre: -12.0701894903   Erro Relativo: 0.00129926756839\n",
      "\n",
      "\n",
      "Utilizando os métodos: [N = 8] \n",
      "\n",
      "Trapézios Composta: -12.3821624298   Erro Relativo: 2.58332366937\n",
      "Simpson Composta: -12.0642089572   Erro Relativo: 0.0508465872629\n",
      "Gauss-Legendre: -12.0703463164   Erro Relativo: 3.31125784123e-12\n",
      "\n",
      "\n",
      "Utilizando os métodos: [N = 10] \n",
      "\n",
      "Trapézios Composta: -12.2695456708   Erro Relativo: 1.65032012456\n",
      "Simpson Composta: -12.0677961579   Erro Relativo: 0.0211274672189\n",
      "Gauss-Legendre: -12.0703463164   Erro Relativo: 5.88668060663e-14\n",
      "\n",
      "\n",
      "Utilizando os métodos: [N = 20] \n",
      "\n",
      "Trapézios Composta: -12.1200244031   Erro Relativo: 0.411571344833\n",
      "Simpson Composta: -12.0701839805   Erro Relativo: 0.00134491507539\n",
      "Gauss-Legendre: -12.0703463164   Erro Relativo: 1.47167015166e-13\n",
      "\n",
      "\n",
      "Utilizando os métodos: [N = 30] \n",
      "\n",
      "Trapézios Composta: -12.0924154029   Erro Relativo: 0.182837227041\n",
      "Simpson Composta: -12.070314144   Erro Relativo: 0.000266540935235\n",
      "Gauss-Legendre: -12.0703463164   Erro Relativo: 5.44517956113e-13\n",
      "\n",
      "\n",
      "Utilizando os métodos: [N = 50] \n",
      "\n",
      "Trapézios Composta: -12.0782893309   Erro Relativo: 0.0658060196321\n",
      "Simpson Composta: -12.0703421398   Erro Relativo: 3.46017614829e-05\n",
      "Gauss-Legendre: -12.0703463164   Erro Relativo: 7.94701881895e-13\n",
      "\n",
      "\n",
      "Utilizando os métodos: [N = 100] \n",
      "\n",
      "Trapézios Composta: -12.0723318741   Erro Relativo: 0.0164498818044\n",
      "Simpson Composta: -12.0703460552   Erro Relativo: 2.16413765411e-06\n",
      "Gauss-Legendre: -12.0703463164   Erro Relativo: 8.68285389478e-13\n",
      "\n",
      "\n",
      "Utilizando os métodos: [N = 500] \n",
      "\n",
      "Trapézios Composta: -12.0704257362   Erro Relativo: 0.000657974495992\n",
      "Simpson Composta: -12.070346316   Erro Relativo: 3.46338438481e-09\n",
      "Gauss-Legendre: -12.0703463164   Erro Relativo: 3.95879270796e-12\n",
      "\n",
      "\n",
      "Utilizando os métodos: [N = 1000] \n"
     ]
    },
    {
     "name": "stdout",
     "output_type": "stream",
     "text": [
      "\n",
      "Trapézios Composta: -12.0703661713   Erro Relativo: 0.000164493456883\n",
      "Simpson Composta: -12.0703463164   Erro Relativo: 2.163943791e-10\n",
      "Gauss-Legendre: -12.0703463164   Erro Relativo: 1.88520946427e-11\n",
      "\n",
      "\n"
     ]
    }
   ],
   "source": [
    "for n in gauss_legendre_n_list:\n",
    "x_i, w_i = leggauss(n)\n",
    "aval_composta(f2, 0, pi, n, x_i, w_i, f2_sol)"
   ]
  },
  {
   "cell_type": "code",
   "execution_count": 13,
   "metadata": {
    "autoscroll": "json-false",
    "collapsed": false,
    "ein.tags": [
     "worksheet-0"
    ]
   },
   "outputs": [],
   "source": [
    "xi, wi = leggauss(20)"
   ]
  },
  {
   "cell_type": "markdown",
   "metadata": {
    "ein.tags": [
     "worksheet-0"
    ]
   },
   "source": [
    "### Calcular o integral: ###\n",
    "\n",
    "$\\int _{0}^{\\infty} \\frac{x dx}{(1+x)^{4}}$"
   ]
  },
  {
   "cell_type": "code",
   "execution_count": 14,
   "metadata": {
    "autoscroll": "json-false",
    "collapsed": false,
    "ein.tags": [
     "worksheet-0"
    ]
   },
   "outputs": [
    {
     "data": {
      "text/plain": [
       "0.16666666666666655"
      ]
     },
     "execution_count": 14,
     "metadata": {},
     "output_type": "execute_result"
    }
   ],
   "source": [
    "f3 = lambda x: x / (1+x)**4\n",
    "gauss_legendre_0inf(f3, xi, wi)"
   ]
  },
  {
   "cell_type": "markdown",
   "metadata": {
    "ein.tags": [
     "worksheet-0"
    ]
   },
   "source": [
    "Usando a transformação\n",
    "\n",
    "$x = \\frac{y}{1-y}$"
   ]
  },
  {
   "cell_type": "code",
   "execution_count": 0,
   "metadata": {
    "autoscroll": "json-false",
    "collapsed": false,
    "ein.tags": [
     "worksheet-0"
    ]
   },
   "outputs": [],
   "source": [
    "f3_1 = lambda y: f3(y/(1-y))"
   ]
  },
  {
   "cell_type": "code",
   "execution_count": 0,
   "metadata": {
    "autoscroll": "json-false",
    "collapsed": false,
    "ein.tags": [
     "worksheet-0"
    ]
   },
   "outputs": [],
   "source": []
  },
  {
   "cell_type": "code",
   "execution_count": 0,
   "metadata": {
    "autoscroll": "json-false",
    "collapsed": false,
    "ein.tags": [
     "worksheet-0"
    ]
   },
   "outputs": [],
   "source": [
    "import matplotlib.pyplot as pl\n",
    "import numpy as np\n",
    "%matplotlib inline"
   ]
  },
  {
   "cell_type": "code",
   "execution_count": 43,
   "metadata": {
    "autoscroll": "json-false",
    "collapsed": false,
    "ein.tags": [
     "worksheet-0"
    ]
   },
   "outputs": [
    {
     "data": {
      "text/plain": [
       "0.88622623136944079"
      ]
     },
     "execution_count": 43,
     "metadata": {},
     "output_type": "execute_result"
    }
   ],
   "source": [
    "gauss_legendre_0inf(f3_1, xi, wi)\n",
    "f10 = lambda x: exp(-x**2)\n",
    "gauss_legendre_0inf(f10, xi, wi)"
   ]
  },
  {
   "cell_type": "code",
   "execution_count": 0,
   "metadata": {
    "autoscroll": "json-false",
    "collapsed": false,
    "ein.tags": [
     "worksheet-0"
    ]
   },
   "outputs": [
    {
     "data": {
      "text/plain": [
       "0.88622623136944079"
      ]
     },
     "execution_count": 43,
     "metadata": {},
     "output_type": "execute_result"
    }
   ],
   "source": [
    "gauss_legendre_0inf(f3_1, xi, wi)\n",
    "f10 = lambda x: x * exp(-x**2)\n",
    "gauss_legendre_0inf(f10, xi, wi)"
   ]
  },
  {
   "cell_type": "code",
   "execution_count": 0,
   "metadata": {
    "autoscroll": "json-false",
    "collapsed": false,
    "ein.tags": [
     "worksheet-0"
    ]
   },
   "outputs": [
    {
     "data": {
      "text/plain": [
       "0.88622623136944079"
      ]
     },
     "execution_count": 43,
     "metadata": {},
     "output_type": "execute_result"
    }
   ],
   "source": [
    "gauss_legendre_0inf(f3_1, xi, wi)\n",
    "f10 = lambda x: x**2 * exp(-x**2)\n",
    "gauss_legendre_0inf(f10, xi, wi)"
   ]
  },
  {
   "cell_type": "code",
   "execution_count": 47,
   "metadata": {
    "autoscroll": "json-false",
    "collapsed": false,
    "ein.tags": [
     "worksheet-0"
    ]
   },
   "outputs": [
    {
     "data": {
      "image/png": "[encoded data removed]",
      "text/plain": [
       "<matplotlib.figure.Figure at 0x7fa73c8efcc0>"
      ]
     },
     "metadata": {},
     "output_type": "display_data"
    }
   ],
   "source": [
    "x_plot = np.linspace(-10, 10)\n",
    "pl.figure()\n",
    "pl.plot(x_plot, f10(x_plot))\n",
    "pl.show()"
   ]
  },
  {
   "cell_type": "markdown",
   "metadata": {
    "ein.tags": [
     "worksheet-0"
    ]
   },
   "source": [
    "E depois a transformação\n",
    "\n",
    "$x = \\tan \\left[ \\frac{\\pi}{4} (1+y) \\right]$"
   ]
  },
  {
   "cell_type": "code",
   "execution_count": 16,
   "metadata": {
    "autoscroll": "json-false",
    "collapsed": false,
    "ein.tags": [
     "worksheet-0"
    ]
   },
   "outputs": [
    {
     "data": {
      "text/plain": [
       "-259.08351264432883"
      ]
     },
     "execution_count": 16,
     "metadata": {},
     "output_type": "execute_result"
    }
   ],
   "source": [
    "f3_2 = lambda y: f3(tan(pi/4 * (1+y)))\n",
    "gauss_legendre_0inf(f3_2, xi, wi)"
   ]
  },
  {
   "cell_type": "markdown",
   "metadata": {
    "ein.tags": [
     "worksheet-0"
    ]
   },
   "source": [
    "#### Integral Duplo de ####\n",
    "\n",
    "$\\int _{0}^{1} \\left( \\int _{-\\sqrt{1-y^{2}}} ^{\\sqrt{1-y^{2}}} \\, dx \\right) dy$"
   ]
  },
  {
   "cell_type": "code",
   "execution_count": 17,
   "metadata": {
    "autoscroll": "json-false",
    "collapsed": false,
    "ein.tags": [
     "worksheet-0"
    ]
   },
   "outputs": [
    {
     "data": {
      "text/plain": [
       "1.5708301878814022"
      ]
     },
     "execution_count": 17,
     "metadata": {},
     "output_type": "execute_result"
    }
   ],
   "source": [
    "f4 = lambda x: 1\n",
    "f4_1 = lambda y: gauss_legendre_ab(f4, -(1-y**2)**(1/2), (1-y**2)**(1/2) , xi, wi)\n",
    "gauss_legendre_ab(f4_1, 0, 1, xi, wi)"
   ]
  },
  {
   "cell_type": "markdown",
   "metadata": {
    "ein.tags": [
     "worksheet-0"
    ]
   },
   "source": [
    "#### Integral Duplo de ####\n",
    "\n",
    "$\\int _{0}^{1} \\left( \\int _{-\\sqrt{1-y^{2}}} ^{\\sqrt{1-y^{2}}} e^{-xy} \\, dx \\right) dy$"
   ]
  },
  {
   "cell_type": "code",
   "execution_count": 24,
   "metadata": {
    "autoscroll": "json-false",
    "collapsed": false,
    "ein.tags": [
     "worksheet-0"
    ]
   },
   "outputs": [],
   "source": [
    "f5 = lambda x: e**(-x*y)\n",
    "f5_1 = lambda y: gauss_legendre_ab(f5, -(1-y**2)**(1/2), (1-y**2)**(1/2), xi, wi)"
   ]
  },
  {
   "cell_type": "code",
   "execution_count": 28,
   "metadata": {
    "autoscroll": "json-false",
    "collapsed": false,
    "ein.tags": [
     "worksheet-0"
    ]
   },
   "outputs": [
    {
     "ename": "TypeError",
     "evalue": "'Add' object is not iterable",
     "output_type": "error",
     "traceback": [
      "\u001b[1;31m---------------------------------------------------------------------------\u001b[0m",
      "\u001b[1;31mTypeError\u001b[0m                                 Traceback (most recent call last)",
      "\u001b[1;32m<ipython-input-28-b0b78b6654c2>\u001b[0m in \u001b[0;36m<module>\u001b[1;34m()\u001b[0m\n\u001b[1;32m----> 1\u001b[1;33m \u001b[0mlist\u001b[0m\u001b[1;33m(\u001b[0m\u001b[0mgauss_legendre_ab\u001b[0m\u001b[1;33m(\u001b[0m\u001b[0mf5_1\u001b[0m\u001b[1;33m,\u001b[0m \u001b[1;36m0\u001b[0m\u001b[1;33m,\u001b[0m \u001b[1;36m1\u001b[0m\u001b[1;33m,\u001b[0m \u001b[0mxi\u001b[0m\u001b[1;33m,\u001b[0m \u001b[0mwi\u001b[0m\u001b[1;33m)\u001b[0m\u001b[1;33m)\u001b[0m\u001b[1;33m\u001b[0m\u001b[0m\n\u001b[0m",
      "\u001b[1;31mTypeError\u001b[0m: 'Add' object is not iterable"
     ]
    }
   ],
   "source": [
    "gauss_legendre_ab(f5_1, 0, 1, xi, wi)"
   ]
  },
  {
   "cell_type": "markdown",
   "metadata": {
    "ein.tags": [
     "worksheet-0"
    ]
   },
   "source": [
    "Derivar $e^{x} \\sin(x) + e^{-x} \\cos(x)$ nos pontos x = 0, $\\frac{\\pi}{4}$, $\\frac{\\pi}{2}$, $\\frac{3\\pi}{4}$ e $\\pi$.\n",
    "\n",
    "Fórmulas a 2, 3 e 5 pontos.\n",
    "\n",
    "h = 0.1, 0.05, 0.01"
   ]
  },
  {
   "cell_type": "code",
   "execution_count": 30,
   "metadata": {
    "autoscroll": "json-false",
    "collapsed": false,
    "ein.tags": [
     "worksheet-0"
    ]
   },
   "outputs": [],
   "source": [
    "f6 = lambda x: exp(x)*sin(x) + exp(-x)*cos(x)\n",
    "x_6 = [0, pi/4, pi/2, 3*pi/4, pi]\n",
    "h_6 = [0.1, 0.05, 0.01]\n",
    "fx_6 = list(map(f6, x_6))"
   ]
  },
  {
   "cell_type": "code",
   "execution_count": 33,
   "metadata": {
    "autoscroll": "json-false",
    "collapsed": false,
    "ein.tags": [
     "worksheet-0"
    ]
   },
   "outputs": [],
   "source": [
    "def deriv2pts(yf, xf):\n",
    "    df2pts = []\n",
    "    for i in range(1, len(xf)):\n",
    "        df2pts.append((yf[i] - yf[i-1]) / (xf[i] - xf[i-1]))\n",
    "    return df2pts\n",
    "\n",
    "\n",
    "def deriv3pts(yf, xf):\n",
    "    df3pts = []\n",
    "\n",
    "\n",
    "    return df3pts\n",
    "\n",
    "\n",
    "def deriv5pts(yf, xf):\n",
    "    df5pts = []\n",
    "\n",
    "\n",
    "    return df5pts"
   ]
  },
  {
   "cell_type": "code",
   "execution_count": 34,
   "metadata": {
    "autoscroll": "json-false",
    "collapsed": false,
    "ein.tags": [
     "worksheet-0"
    ]
   },
   "outputs": [
    {
     "data": {
      "text/plain": [
       "[1.1118948064320076,\n 3.7397556793319513,\n 3.2887668178982699,\n -9.4686785180137765]"
      ]
     },
     "execution_count": 34,
     "metadata": {},
     "output_type": "execute_result"
    }
   ],
   "source": [
    "print(deriv2pts(fx_6, x_6))\n",
    "print(deriv3pts(fx_6, x_6))"
   ]
  }
 ],
 "metadata": {
  "kernelspec": {
   "display_name": "Python 3",
   "name": "python3"
  },
  "language_info": {
   "codemirror_mode": {
    "name": "ipython",
    "version": 3
   },
   "file_extension": ".py",
   "mimetype": "text/x-python",
   "name": "python",
   "nbconvert_exporter": "python",
   "pygments_lexer": "ipython3",
   "version": "3.4.3+"
  },
  "name": "Ficha 3.ipynb"
 },
 "nbformat": 4,
 "nbformat_minor": 0
}
