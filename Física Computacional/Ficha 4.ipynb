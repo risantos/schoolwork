{
 "cells": [
  {
   "cell_type": "markdown",
   "metadata": {
    "ein.tags": [
     "worksheet-0"
    ]
   },
   "source": [
    "##### Departamento de Física - Faculdade de Ciências e Tecnologia da Universidade de Coimbra #####\n",
    "# Física Computacional - Ficha 4 - Sistemas de equações Lineares #\n",
    "### Rafael Isaque Santos - 2012144694 - Licenciatura em Física ###"
   ]
  },
  {
   "cell_type": "markdown",
   "metadata": {
    "ein.tags": [
     "worksheet-0"
    ]
   },
   "source": [
    "##### 1 - Resolução de um sistema de equações lineares $Ax = b$ pelo método de eliminação de Gauss #####"
   ]
  },
  {
   "cell_type": "code",
   "execution_count": 1,
   "metadata": {
    "autoscroll": "json-false",
    "collapsed": false,
    "ein.tags": [
     "worksheet-0"
    ]
   },
   "outputs": [],
   "source": [
    "import numpy as np"
   ]
  },
  {
   "cell_type": "markdown",
   "metadata": {},
   "source": [
    "##### Método de Eliminação de Gauss (sem pivoting) #####"
   ]
  },
  {
   "cell_type": "code",
   "execution_count": 2,
   "metadata": {
    "autoscroll": "json-false",
    "collapsed": false,
    "ein.tags": [
     "worksheet-0"
    ]
   },
   "outputs": [],
   "source": [
    "def gauss_elim_nopiv(n, matrix, b):\n",
    "    origin_m = np.copy(matrix)\n",
    "    origin_b = np.copy(b)\n",
    "    aux_m = np.array([[0.]*n]*n)\n",
    "    for k in range(0, n):\n",
    "        # print(origin_m, origin_b)\n",
    "        for i in range(k+1, n):\n",
    "            aux_m[i, k] = -origin_m[i, k] / origin_m[k, k]\n",
    "            origin_m[i, k] = 0\n",
    "            origin_b[i] = origin_b[i] + aux_m[i, k] * origin_b[k]\n",
    "            for j in range(k + 1, n):\n",
    "                origin_m[i, j] = origin_m[i, j] + aux_m[i, k] * origin_m[k, j]\n",
    "\n",
    "    determ = origin_m[0, 0]\n",
    "    for d in range(1, n):\n",
    "        determ *= origin_m[d, d]\n",
    "    return origin_m, aux_m, origin_b, determ"
   ]
  },
  {
   "cell_type": "markdown",
   "metadata": {},
   "source": [
    "##### Backward Substitution #####"
   ]
  },
  {
   "cell_type": "code",
   "execution_count": 3,
   "metadata": {
    "autoscroll": "json-false",
    "collapsed": false,
    "ein.tags": [
     "worksheet-0"
    ]
   },
   "outputs": [],
   "source": [
    "def backward_sub(n, U, c):\n",
    "    x = np.zeros_like(c)\n",
    "    x[n-1] = c[n-1]/U[n-1, n-1]\n",
    "    for k in range(n-2, -1, -1):\n",
    "        s = 0\n",
    "        for j in range(k+1, n):\n",
    "            # print(k, j)\n",
    "            s += U[k, j] * x[j]\n",
    "            # print(k, j, U[k, j], x[j], s)\n",
    "        x[k] = (1/U[k, k]) * (c[k] - s)\n",
    "        # print(x[k], x)    \n",
    "    return x"
   ]
  },
  {
   "cell_type": "markdown",
   "metadata": {},
   "source": [
    "##### Forward Substitution #####"
   ]
  },
  {
   "cell_type": "code",
   "execution_count": 4,
   "metadata": {
    "autoscroll": "json-false",
    "collapsed": false,
    "ein.tags": [
     "worksheet-0"
    ]
   },
   "outputs": [],
   "source": [
    "def forward_sub(n, L, b):\n",
    "    y = np.zeros_like(b)\n",
    "    y[0] = b[1] / L[1, 1]\n",
    "    for k in range(1, n):\n",
    "        soma = 0\n",
    "        for j in range(0, k - 1): soma += L[k, j] * y[j]\n",
    "        y[k] = (b[k] - soma) / L[k, k]\n",
    "    return y"
   ]
  },
  {
   "cell_type": "markdown",
   "metadata": {},
   "source": [
    "##### Método de Eliminação de Gauss (com pivoting parcial) #####"
   ]
  },
  {
   "cell_type": "code",
   "execution_count": 5,
   "metadata": {
    "autoscroll": "json-false",
    "collapsed": false,
    "ein.tags": [
     "worksheet-0"
    ]
   },
   "outputs": [],
   "source": [
    "def gauss_elim_partial(n, matrix, b):\n",
    "    origin_m = np.copy(matrix)\n",
    "    origin_b = np.copy(b)\n",
    "    \n",
    "    for k in range(0, n - 1):\n",
    "        maxi = 0\n",
    "        km = k\n",
    "        for k1 in range(k, n):\n",
    "            if abs(origin_m[k1, k]) > maxi:\n",
    "                maxi = abs(origin_m[k1, k])\n",
    "                km = k1\n",
    "                if km != k:\n",
    "                    origin_m[k, k:n-1], origin_m[km, k:n-1] = origin_m[km, k:n-1], origin_m[k, k:n-1]\n",
    "                    origin_b[k], origin_b[km] = origin_b[km], origin_b[k]\n",
    "    U_A, aux_A, c_A, det_A = gauss_elim_nopiv(n, A, b)\n",
    "    return U_A, aux_A, c_A, det_A"
   ]
  },
  {
   "cell_type": "markdown",
   "metadata": {},
   "source": [
    "##### Funções para resolver sistemas utilizando em primeiro lugar o método sem pivoting e depois com pivoting parcial  #####"
   ]
  },
  {
   "cell_type": "code",
   "execution_count": 6,
   "metadata": {
    "autoscroll": "json-false",
    "collapsed": false,
    "ein.tags": [
     "worksheet-0"
    ]
   },
   "outputs": [],
   "source": [
    "def solve_nopiv(matrix, b):\n",
    "    n = len(matrix)\n",
    "    u, aux, c, det = gauss_elim_nopiv(n, matrix, b)\n",
    "    x = backward_sub(n, u, c)\n",
    "    return x\n",
    "\n",
    "def solve_partpiv(matrix, b):\n",
    "    n = len(matrix)\n",
    "    u, aux, c, det = gauss_elim_partial(n, matrix, b)\n",
    "    x = backward_sub(n, u, c)\n",
    "    return x"
   ]
  },
  {
   "cell_type": "code",
   "execution_count": 7,
   "metadata": {
    "autoscroll": "json-false",
    "collapsed": false,
    "ein.tags": [
     "worksheet-0"
    ]
   },
   "outputs": [
    {
     "data": {
      "text/plain": [
       "(array([[ 1,  2,  1],\n",
       "        [ 2,  3,  3],\n",
       "        [-1, -3,  1]]), array([1, 3, 2]))"
      ]
     },
     "execution_count": 7,
     "metadata": {},
     "output_type": "execute_result"
    }
   ],
   "source": [
    "A = np.array([[1, 2, 1], [2, 3, 3], [-1, -3, 1]])\n",
    "b = np.array([1, 3, 2])\n",
    "A, b"
   ]
  },
  {
   "cell_type": "code",
   "execution_count": 8,
   "metadata": {
    "autoscroll": "json-false",
    "collapsed": false,
    "ein.tags": [
     "worksheet-0"
    ]
   },
   "outputs": [
    {
     "data": {
      "text/plain": [
       "(array([[ 1,  2,  1],\n",
       "        [ 0, -1,  1],\n",
       "        [ 0,  0,  1]]), array([[ 0.,  0.,  0.],\n",
       "        [-2.,  0.,  0.],\n",
       "        [ 1., -1.,  0.]]), array([1, 1, 2]), -1)"
      ]
     },
     "execution_count": 8,
     "metadata": {},
     "output_type": "execute_result"
    }
   ],
   "source": [
    "gauss_elim_partial(3, A, b)"
   ]
  },
  {
   "cell_type": "code",
   "execution_count": 9,
   "metadata": {
    "autoscroll": "json-false",
    "collapsed": false,
    "ein.tags": [
     "worksheet-0"
    ]
   },
   "outputs": [
    {
     "data": {
      "text/plain": [
       "(array([[ 1,  2,  1],\n",
       "        [ 0, -1,  1],\n",
       "        [ 0,  0,  1]]), array([[ 0.,  0.,  0.],\n",
       "        [-2.,  0.,  0.],\n",
       "        [ 1., -1.,  0.]]), array([1, 1, 2]), -1)"
      ]
     },
     "execution_count": 9,
     "metadata": {},
     "output_type": "execute_result"
    }
   ],
   "source": [
    "gauss_elim_nopiv(3, A, b)"
   ]
  },
  {
   "cell_type": "code",
   "execution_count": 10,
   "metadata": {
    "autoscroll": "json-false",
    "collapsed": false,
    "ein.tags": [
     "worksheet-0"
    ]
   },
   "outputs": [
    {
     "name": "stdout",
     "output_type": "stream",
     "text": [
      "[[ 1  2  1]\n",
      " [ 0 -1  1]\n",
      " [ 0  0  1]] [[ 0.  0.  0.]\n",
      " [-2.  0.  0.]\n",
      " [ 1. -1.  0.]] [1 1 2] -1\n"
     ]
    }
   ],
   "source": [
    "U_A, aux_A, c_A, det_A = gauss_elim_nopiv(3, A, b)\n",
    "print(U_A, aux_A, c_A, det_A)"
   ]
  },
  {
   "cell_type": "code",
   "execution_count": 11,
   "metadata": {
    "autoscroll": "json-false",
    "collapsed": false,
    "ein.tags": [
     "worksheet-0"
    ]
   },
   "outputs": [
    {
     "name": "stdout",
     "output_type": "stream",
     "text": [
      "[-3  1  2]\n"
     ]
    }
   ],
   "source": [
    "x_A = backward_sub(3, U_A, c_A)\n",
    "print(x_A)"
   ]
  },
  {
   "cell_type": "code",
   "execution_count": 12,
   "metadata": {
    "autoscroll": "json-false",
    "collapsed": true,
    "ein.tags": [
     "worksheet-0"
    ]
   },
   "outputs": [],
   "source": [
    "# y_A = forward_sub(3, aux_A, c_A)\n",
    "# print(y_A)"
   ]
  },
  {
   "cell_type": "markdown",
   "metadata": {
    "ein.tags": [
     "worksheet-0"
    ]
   },
   "source": [
    "##### Função para gerar Matrizes de Hilbert de orden _n_ #####\n",
    "\n",
    "2 - Resolver a Matriz de Hilbert com ordem 3, 5 e 10."
   ]
  },
  {
   "cell_type": "code",
   "execution_count": 13,
   "metadata": {
    "autoscroll": "json-false",
    "collapsed": false,
    "ein.tags": [
     "worksheet-0"
    ]
   },
   "outputs": [],
   "source": [
    "def hilbert_gen(n):\n",
    "    H = np.array([[1.]*n]*n)\n",
    "    H_b = []\n",
    "    for b in range(1, n+1): H_b.append(float(b))\n",
    "    for i in range(0, n):\n",
    "        for j in range(0, n):\n",
    "            H[i, j] = (1/((i + 1) + (j + 1) - 1))\n",
    "    return H, np.array(H_b)"
   ]
  },
  {
   "cell_type": "code",
   "execution_count": 14,
   "metadata": {
    "autoscroll": "json-false",
    "collapsed": false,
    "ein.tags": [
     "worksheet-0"
    ]
   },
   "outputs": [
    {
     "name": "stdout",
     "output_type": "stream",
     "text": [
      "[[ 1.          0.5         0.33333333]\n",
      " [ 0.5         0.33333333  0.25      ]\n",
      " [ 0.33333333  0.25        0.2       ]] [ 1.  2.  3.]\n",
      "[  27. -192.  210.]\n",
      "0.000462962962963\n"
     ]
    }
   ],
   "source": [
    "Hil_3, Hil_3_b = hilbert_gen(3)\n",
    "print(Hil_3, Hil_3_b)\n",
    "print(np.linalg.solve(Hil_3, Hil_3_b))\n",
    "print(np.linalg.det(Hil_3))"
   ]
  },
  {
   "cell_type": "code",
   "execution_count": 15,
   "metadata": {
    "autoscroll": "json-false",
    "collapsed": false,
    "ein.tags": [
     "worksheet-0"
    ]
   },
   "outputs": [
    {
     "data": {
      "text/plain": [
       "array([  27., -192.,  210.])"
      ]
     },
     "execution_count": 15,
     "metadata": {},
     "output_type": "execute_result"
    }
   ],
   "source": [
    "H3_S, H3_A, H3_B, H3_D = gauss_elim_nopiv(3, Hil_3, Hil_3_b)\n",
    "backward_sub(3, H3_S, H3_B)"
   ]
  },
  {
   "cell_type": "code",
   "execution_count": 16,
   "metadata": {
    "autoscroll": "json-false",
    "collapsed": false,
    "ein.tags": [
     "worksheet-0"
    ]
   },
   "outputs": [
    {
     "name": "stdout",
     "output_type": "stream",
     "text": [
      "(array([[ 1.        ,  0.5       ,  0.33333333],\n",
      "       [ 0.        ,  0.08333333,  0.08333333],\n",
      "       [ 0.        ,  0.        ,  0.00555556]]), array([[ 0.        ,  0.        ,  0.        ],\n",
      "       [-0.5       ,  0.        ,  0.        ],\n",
      "       [-0.33333333, -1.        ,  0.        ]]), array([ 1.        ,  1.5       ,  1.16666667]), 0.00046296296296296005)\n"
     ]
    }
   ],
   "source": [
    "print(gauss_elim_nopiv(3, Hil_3, Hil_3_b))"
   ]
  },
  {
   "cell_type": "code",
   "execution_count": 17,
   "metadata": {
    "autoscroll": "json-false",
    "collapsed": false,
    "ein.tags": [
     "worksheet-0"
    ]
   },
   "outputs": [
    {
     "data": {
      "text/plain": [
       "(array([[  1.00000000e+00,   5.00000000e-01,   3.33333333e-01,\n",
       "           2.50000000e-01,   2.00000000e-01],\n",
       "        [  0.00000000e+00,   8.33333333e-02,   8.33333333e-02,\n",
       "           7.50000000e-02,   6.66666667e-02],\n",
       "        [  0.00000000e+00,   0.00000000e+00,   5.55555556e-03,\n",
       "           8.33333333e-03,   9.52380952e-03],\n",
       "        [  0.00000000e+00,   0.00000000e+00,   0.00000000e+00,\n",
       "           3.57142857e-04,   7.14285714e-04],\n",
       "        [  0.00000000e+00,   0.00000000e+00,   0.00000000e+00,\n",
       "           0.00000000e+00,   2.26757370e-05]]),\n",
       " array([[ 0.        ,  0.        ,  0.        ,  0.        ,  0.        ],\n",
       "        [-0.5       ,  0.        ,  0.        ,  0.        ,  0.        ],\n",
       "        [-0.33333333, -1.        ,  0.        ,  0.        ,  0.        ],\n",
       "        [-0.25      , -0.9       , -1.5       ,  0.        ,  0.        ],\n",
       "        [-0.2       , -0.8       , -1.71428571, -2.        ,  0.        ]]),\n",
       " array([ 1.        ,  1.5       ,  1.16666667,  0.65      ,  0.3       ]),\n",
       " 3.7492951325173029e-12)"
      ]
     },
     "execution_count": 17,
     "metadata": {},
     "output_type": "execute_result"
    }
   ],
   "source": [
    "Hil_5, Hil_5_b = hilbert_gen(5)\n",
    "gauss_elim_nopiv(5, Hil_5, Hil_5_b)"
   ]
  },
  {
   "cell_type": "code",
   "execution_count": 18,
   "metadata": {
    "autoscroll": "json-false",
    "collapsed": false,
    "ein.tags": [
     "worksheet-0"
    ]
   },
   "outputs": [
    {
     "name": "stdout",
     "output_type": "stream",
     "text": [
      "[[ 1.          0.5         0.33333333  0.25        0.2         0.16666667\n",
      "   0.14285714  0.125       0.11111111  0.1       ]\n",
      " [ 0.5         0.33333333  0.25        0.2         0.16666667  0.14285714\n",
      "   0.125       0.11111111  0.1         0.09090909]\n",
      " [ 0.33333333  0.25        0.2         0.16666667  0.14285714  0.125\n",
      "   0.11111111  0.1         0.09090909  0.08333333]\n",
      " [ 0.25        0.2         0.16666667  0.14285714  0.125       0.11111111\n",
      "   0.1         0.09090909  0.08333333  0.07692308]\n",
      " [ 0.2         0.16666667  0.14285714  0.125       0.11111111  0.1\n",
      "   0.09090909  0.08333333  0.07692308  0.07142857]\n",
      " [ 0.16666667  0.14285714  0.125       0.11111111  0.1         0.09090909\n",
      "   0.08333333  0.07692308  0.07142857  0.06666667]\n",
      " [ 0.14285714  0.125       0.11111111  0.1         0.09090909  0.08333333\n",
      "   0.07692308  0.07142857  0.06666667  0.0625    ]\n",
      " [ 0.125       0.11111111  0.1         0.09090909  0.08333333  0.07692308\n",
      "   0.07142857  0.06666667  0.0625      0.05882353]\n",
      " [ 0.11111111  0.1         0.09090909  0.08333333  0.07692308  0.07142857\n",
      "   0.06666667  0.0625      0.05882353  0.05555556]\n",
      " [ 0.1         0.09090909  0.08333333  0.07692308  0.07142857  0.06666667\n",
      "   0.0625      0.05882353  0.05555556  0.05263158]] [  1.   2.   3.   4.   5.   6.   7.   8.   9.  10.]\n",
      "[ -9.99815326e+02   9.79940514e+04  -2.32814044e+06   2.33001942e+07\n",
      "  -1.21066246e+08   3.59418665e+08  -6.32245357e+08   6.51054964e+08\n",
      "  -3.62282609e+08   8.40565858e+07]\n",
      "2.16440526462e-53\n"
     ]
    }
   ],
   "source": [
    "Hil_10, Hil_10_b = hilbert_gen(10)\n",
    "print(Hil_10, Hil_10_b)\n",
    "print(np.linalg.solve(Hil_10, Hil_10_b))\n",
    "print(np.linalg.det(Hil_10))"
   ]
  },
  {
   "cell_type": "code",
   "execution_count": 19,
   "metadata": {
    "autoscroll": "json-false",
    "collapsed": false,
    "ein.tags": [
     "worksheet-0"
    ]
   },
   "outputs": [
    {
     "data": {
      "text/plain": [
       "(array([[  1.00000000e+00,   5.00000000e-01,   3.33333333e-01,\n",
       "           2.50000000e-01,   2.00000000e-01,   1.66666667e-01,\n",
       "           1.42857143e-01,   1.25000000e-01,   1.11111111e-01,\n",
       "           1.00000000e-01],\n",
       "        [  0.00000000e+00,   8.33333333e-02,   8.33333333e-02,\n",
       "           7.50000000e-02,   6.66666667e-02,   5.95238095e-02,\n",
       "           5.35714286e-02,   4.86111111e-02,   4.44444444e-02,\n",
       "           4.09090909e-02],\n",
       "        [  0.00000000e+00,   0.00000000e+00,   5.55555556e-03,\n",
       "           8.33333333e-03,   9.52380952e-03,   9.92063492e-03,\n",
       "           9.92063492e-03,   9.72222222e-03,   9.42760943e-03,\n",
       "           9.09090909e-03],\n",
       "        [  0.00000000e+00,   0.00000000e+00,   0.00000000e+00,\n",
       "           3.57142857e-04,   7.14285714e-04,   9.92063492e-04,\n",
       "           1.19047619e-03,   1.32575758e-03,   1.41414141e-03,\n",
       "           1.46853147e-03],\n",
       "        [  0.00000000e+00,   0.00000000e+00,   0.00000000e+00,\n",
       "           0.00000000e+00,   2.26757370e-05,   5.66893424e-05,\n",
       "           9.27643785e-05,   1.26262626e-04,   1.55400155e-04,\n",
       "           1.79820180e-04],\n",
       "        [  0.00000000e+00,   0.00000000e+00,   0.00000000e+00,\n",
       "           0.00000000e+00,   0.00000000e+00,   1.43154905e-06,\n",
       "           4.29464715e-06,   8.09375809e-06,   1.23333457e-05,\n",
       "           1.66500166e-05],\n",
       "        [  0.00000000e+00,   0.00000000e+00,   0.00000000e+00,\n",
       "           0.00000000e+00,   0.00000000e+00,   0.00000000e+00,\n",
       "           9.00974923e-08,   3.15341224e-07,   6.72727944e-07,\n",
       "           1.13522841e-06],\n",
       "        [  0.00000000e+00,   0.00000000e+00,   0.00000000e+00,\n",
       "           0.00000000e+00,   0.00000000e+00,   0.00000000e+00,\n",
       "           0.00000000e+00,   5.65997065e-09,   2.26398821e-08,\n",
       "           5.39361899e-08],\n",
       "        [  0.00000000e+00,   0.00000000e+00,   0.00000000e+00,\n",
       "           0.00000000e+00,   0.00000000e+00,   0.00000000e+00,\n",
       "           0.00000000e+00,   0.00000000e+00,   3.55136713e-10,\n",
       "           1.59811304e-09],\n",
       "        [  0.00000000e+00,   0.00000000e+00,   0.00000000e+00,\n",
       "           0.00000000e+00,   0.00000000e+00,   0.00000000e+00,\n",
       "           0.00000000e+00,   0.00000000e+00,   0.00000000e+00,\n",
       "           2.22677000e-11]]),\n",
       " array([[  0.        ,   0.        ,   0.        ,   0.        ,\n",
       "           0.        ,   0.        ,   0.        ,   0.        ,\n",
       "           0.        ,   0.        ],\n",
       "        [ -0.5       ,   0.        ,   0.        ,   0.        ,\n",
       "           0.        ,   0.        ,   0.        ,   0.        ,\n",
       "           0.        ,   0.        ],\n",
       "        [ -0.33333333,  -1.        ,   0.        ,   0.        ,\n",
       "           0.        ,   0.        ,   0.        ,   0.        ,\n",
       "           0.        ,   0.        ],\n",
       "        [ -0.25      ,  -0.9       ,  -1.5       ,   0.        ,\n",
       "           0.        ,   0.        ,   0.        ,   0.        ,\n",
       "           0.        ,   0.        ],\n",
       "        [ -0.2       ,  -0.8       ,  -1.71428571,  -2.        ,\n",
       "           0.        ,   0.        ,   0.        ,   0.        ,\n",
       "           0.        ,   0.        ],\n",
       "        [ -0.16666667,  -0.71428571,  -1.78571429,  -2.77777778,\n",
       "          -2.5       ,   0.        ,   0.        ,   0.        ,\n",
       "           0.        ,   0.        ],\n",
       "        [ -0.14285714,  -0.64285714,  -1.78571429,  -3.33333333,\n",
       "          -4.09090909,  -3.        ,   0.        ,   0.        ,\n",
       "           0.        ,   0.        ],\n",
       "        [ -0.125     ,  -0.58333333,  -1.75      ,  -3.71212121,\n",
       "          -5.56818182,  -5.65384615,  -3.5       ,   0.        ,\n",
       "           0.        ,   0.        ],\n",
       "        [ -0.11111111,  -0.53333333,  -1.6969697 ,  -3.95959596,\n",
       "          -6.85314685,  -8.61538462,  -7.46666668,  -3.99999991,\n",
       "           0.        ,   0.        ],\n",
       "        [ -0.1       ,  -0.49090909,  -1.63636364,  -4.11188811,\n",
       "          -7.93006993, -11.63076923, -12.60000002,  -9.52941157,\n",
       "          -4.49999391,   0.        ]]),\n",
       " array([ 1.        ,  1.5       ,  1.16666667,  0.65      ,  0.3       ,\n",
       "         0.12301587,  0.0465368 ,  0.01660839,  0.00567211,  0.00187169]),\n",
       " 2.164480500135833e-53)"
      ]
     },
     "execution_count": 19,
     "metadata": {},
     "output_type": "execute_result"
    }
   ],
   "source": [
    "gauss_elim_nopiv(10, Hil_10, Hil_10_b)"
   ]
  },
  {
   "cell_type": "markdown",
   "metadata": {
    "ein.tags": [
     "worksheet-0"
    ]
   },
   "source": [
    "O determinante deu 2.164480500135833e-53, que é parecido com o obtido pelo cálculo do determinante utilizando o NumPy"
   ]
  },
  {
   "cell_type": "markdown",
   "metadata": {
    "ein.tags": [
     "worksheet-0"
    ]
   },
   "source": [
    "### Exercício 3 ###"
   ]
  },
  {
   "cell_type": "code",
   "execution_count": 20,
   "metadata": {
    "autoscroll": "json-false",
    "collapsed": false,
    "ein.tags": [
     "worksheet-0"
    ]
   },
   "outputs": [
    {
     "data": {
      "text/plain": [
       "(array([[ 1,  2,  1],\n",
       "        [ 2,  3,  3],\n",
       "        [-1, -3,  1]]), array([1, 3, 2]))"
      ]
     },
     "execution_count": 20,
     "metadata": {},
     "output_type": "execute_result"
    }
   ],
   "source": [
    "A = np.array([[1, 2, 1], [2, 3, 3], [-1, -3, 1]])\n",
    "b = np.array([1, 3, 2])\n",
    "A, b"
   ]
  },
  {
   "cell_type": "markdown",
   "metadata": {},
   "source": [
    "##### 3 - Cálculo da matriz inversa utilizando em primeiro lugar a Eliminação de Gauss e Bacward Substitution.#####\n",
    "\n",
    "A ideia é resolver _n_ equações para uma matriz quadrada de ordem _n_, igualando aos vectores."
   ]
  },
  {
   "cell_type": "code",
   "execution_count": 21,
   "metadata": {
    "autoscroll": "json-false",
    "collapsed": false,
    "ein.tags": [
     "worksheet-0"
    ]
   },
   "outputs": [],
   "source": [
    "def matrix_inverse(matrix):\n",
    "    n = len(matrix)\n",
    "    inv_matrix = [[] for _ in range(n)]\n",
    "    for i in range(0, n):\n",
    "        e = [0, 0, 0]\n",
    "        e[i] = 1\n",
    "        U, aux, c, det = gauss_elim_nopiv(n, matrix, e)\n",
    "        x = backward_sub(n, U, c)\n",
    "        inv_matrix[i] = x\n",
    "    inv_matrix = np.array(inv_matrix)\n",
    "    return inv_matrix.transpose()"
   ]
  },
  {
   "cell_type": "code",
   "execution_count": 22,
   "metadata": {
    "autoscroll": "json-false",
    "collapsed": false,
    "ein.tags": [
     "worksheet-0"
    ]
   },
   "outputs": [
    {
     "name": "stdout",
     "output_type": "stream",
     "text": [
      "[[-12   5  -3]\n",
      " [  5  -2   1]\n",
      " [  3  -1   1]]\n",
      "[[1 0 0]\n",
      " [0 1 0]\n",
      " [0 0 1]]\n"
     ]
    }
   ],
   "source": [
    "A_inv = matrix_inverse(A)\n",
    "print(A_inv)\n",
    "print(A.dot(A_inv))"
   ]
  },
  {
   "cell_type": "markdown",
   "metadata": {
    "ein.tags": [
     "worksheet-0"
    ]
   },
   "source": [
    "Utilizando o NumPy determina-se a inversa de A como:"
   ]
  },
  {
   "cell_type": "code",
   "execution_count": 23,
   "metadata": {
    "autoscroll": "json-false",
    "collapsed": false,
    "ein.tags": [
     "worksheet-0"
    ]
   },
   "outputs": [
    {
     "data": {
      "text/plain": [
       "array([[-12.,   5.,  -3.],\n",
       "       [  5.,  -2.,   1.],\n",
       "       [  3.,  -1.,   1.]])"
      ]
     },
     "execution_count": 23,
     "metadata": {},
     "output_type": "execute_result"
    }
   ],
   "source": [
    "np.linalg.inv(A)"
   ]
  },
  {
   "cell_type": "markdown",
   "metadata": {
    "ein.tags": [
     "worksheet-0"
    ]
   },
   "source": [
    "Exercício 4 - Resolver um sistema para entender a necessidade do _pivoting_\n"
   ]
  },
  {
   "cell_type": "code",
   "execution_count": 24,
   "metadata": {
    "autoscroll": "json-false",
    "collapsed": false,
    "ein.tags": [
     "worksheet-0"
    ]
   },
   "outputs": [],
   "source": [
    "C = [[-10e-20, 1], [2, 1]]\n",
    "cs = [1, 0]"
   ]
  },
  {
   "cell_type": "code",
   "execution_count": 25,
   "metadata": {
    "autoscroll": "json-false",
    "collapsed": false,
    "ein.tags": [
     "worksheet-0"
    ]
   },
   "outputs": [
    {
     "data": {
      "text/plain": [
       "array([-3,  2])"
      ]
     },
     "execution_count": 25,
     "metadata": {},
     "output_type": "execute_result"
    }
   ],
   "source": [
    "solve_partpiv(C, cs)"
   ]
  },
  {
   "cell_type": "code",
   "execution_count": 26,
   "metadata": {
    "autoscroll": "json-false",
    "collapsed": false,
    "ein.tags": [
     "worksheet-0"
    ]
   },
   "outputs": [],
   "source": [
    "x1 = -0.4999975\n",
    "x2 = 0.999995"
   ]
  },
  {
   "cell_type": "code",
   "execution_count": 27,
   "metadata": {
    "autoscroll": "json-false",
    "collapsed": false,
    "ein.tags": [
     "worksheet-0"
    ]
   },
   "outputs": [],
   "source": [
    "C = [[1, 2], [3, 4]]\n",
    "D = [[1, 1], [3, 2]]"
   ]
  }
 ],
 "metadata": {
  "kernelspec": {
   "display_name": "Python 3",
   "language": "python",
   "name": "python3"
  },
  "language_info": {
   "codemirror_mode": {
    "name": "ipython",
    "version": 3
   },
   "file_extension": ".py",
   "mimetype": "text/x-python",
   "name": "python",
   "nbconvert_exporter": "python",
   "pygments_lexer": "ipython3",
   "version": "3.4.3+"
  },
  "name": "Ficha 4.ipynb"
 },
 "nbformat": 4,
 "nbformat_minor": 0
}
