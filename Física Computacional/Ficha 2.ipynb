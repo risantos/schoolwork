{
 "cells": [
  {
   "cell_type": "markdown",
   "metadata": {
    "ein.tags": [
     "worksheet-0"
    ]
   },
   "source": [
    "##### Departamento de Física - Faculdade de Ciências e Tecnologia da Universidade de Coimbra #####\n",
    "# Física Computacional - Ficha 2 - Zeros de Funções #\n",
    "### Rafael Isaque Santos - 2012144694 - Licenciatura em Física ###"
   ]
  },
  {
   "cell_type": "code",
   "execution_count": 1,
   "metadata": {
    "autoscroll": "json-false",
    "collapsed": false,
    "ein.tags": [
     "worksheet-0"
    ]
   },
   "outputs": [],
   "source": [
    "import numpy as np\n",
    "%matplotlib inline"
   ]
  },
  {
   "cell_type": "markdown",
   "metadata": {
    "ein.tags": [
     "worksheet-0"
    ]
   },
   "source": [
    "Define-se a nossa função:\n",
    "\n",
    "$f(x) = \\sin (x)$\n",
    "\n",
    "e a sua derivada:\n",
    "\n",
    "$f'(x) = \\cos (x)$"
   ]
  },
  {
   "cell_type": "code",
   "execution_count": 2,
   "metadata": {
    "autoscroll": "json-false",
    "collapsed": false,
    "ein.tags": [
     "worksheet-0"
    ]
   },
   "outputs": [],
   "source": [
    "f = lambda x: np.sin(x)\n",
    "df = lambda x: np.cos(x)\n",
    "my_stop = 1.e-4\n",
    "my_nitmax = 100000\n",
    "my_cdif = 1.e-6"
   ]
  },
  {
   "cell_type": "markdown",
   "metadata": {
    "ein.tags": [
     "worksheet-0"
    ]
   },
   "source": [
    "Método da Bisecção"
   ]
  },
  {
   "cell_type": "code",
   "execution_count": 3,
   "metadata": {
    "autoscroll": "json-false",
    "collapsed": false,
    "ein.tags": [
     "worksheet-0"
    ]
   },
   "outputs": [],
   "source": [
    "def bi(a, b, fun, eps, nitmax):\n",
    "    c = (a + b) / 2\n",
    "    it = 1\n",
    "    while np.abs(fun(c)) > eps and it < nitmax:\n",
    "        if fun(a)*fun(c) < 0: b = c\n",
    "        else: a = c\n",
    "        c = (a + b) / 2\n",
    "        it += 1\n",
    "    return it, c, fun(c)"
   ]
  },
  {
   "cell_type": "code",
   "execution_count": 4,
   "metadata": {
    "autoscroll": "json-false",
    "collapsed": false,
    "ein.tags": [
     "worksheet-0"
    ]
   },
   "outputs": [
    {
     "data": {
      "text/plain": [
       "(11, 3.1416015625, -8.9089102066436886e-06)"
      ]
     },
     "execution_count": 4,
     "metadata": {},
     "output_type": "execute_result"
    }
   ],
   "source": [
    "bi(2, 4, f, my_stop, my_nitmax)"
   ]
  },
  {
   "cell_type": "markdown",
   "metadata": {
    "ein.tags": [
     "worksheet-0"
    ]
   },
   "source": [
    "Método da Falsa Posição:"
   ]
  },
  {
   "cell_type": "code",
   "execution_count": 5,
   "metadata": {
    "autoscroll": "json-false",
    "collapsed": false,
    "ein.tags": [
     "worksheet-0"
    ]
   },
   "outputs": [],
   "source": [
    "def regfalsi(a, b, fun, eps, nitmax):\n",
    "    c = (a * fun(b) - b * fun(a)) / (fun(b) - fun(a))\n",
    "    it = 1\n",
    "    while np.abs(fun(c)) > eps and it < nitmax:\n",
    "        if fun(a) * fun(c) < 0: b = c\n",
    "        else: a = c\n",
    "        c = (a * fun(b) - b * fun(a)) / (fun(b) - fun(a))\n",
    "        it += 1\n",
    "    return it, c, fun(c)"
   ]
  },
  {
   "cell_type": "code",
   "execution_count": 6,
   "metadata": {
    "autoscroll": "json-false",
    "collapsed": false,
    "ein.tags": [
     "worksheet-0"
    ]
   },
   "outputs": [
    {
     "data": {
      "text/plain": [
       "(3, 3.1415903579556947, 2.2956340984908623e-06)"
      ]
     },
     "execution_count": 6,
     "metadata": {},
     "output_type": "execute_result"
    }
   ],
   "source": [
    "regfalsi(2, 4, f, my_stop, my_nitmax)"
   ]
  },
  {
   "cell_type": "markdown",
   "metadata": {
    "ein.tags": [
     "worksheet-0"
    ]
   },
   "source": [
    "Método de Newton-Raphson:"
   ]
  },
  {
   "cell_type": "code",
   "execution_count": 7,
   "metadata": {
    "autoscroll": "json-false",
    "collapsed": false,
    "ein.tags": [
     "worksheet-0"
    ]
   },
   "outputs": [],
   "source": [
    "def newtraph(c0, fun, dfun, eps, nitmax):\n",
    "    c = c0\n",
    "    it = 1\n",
    "    while np.abs(fun(c)) > eps and it < nitmax:\n",
    "        c = c - fun(c) / dfun(c)\n",
    "        it += 1\n",
    "    return it, c, fun(c)"
   ]
  },
  {
   "cell_type": "code",
   "execution_count": 8,
   "metadata": {
    "autoscroll": "json-false",
    "collapsed": false,
    "ein.tags": [
     "worksheet-0"
    ]
   },
   "outputs": [
    {
     "data": {
      "text/plain": [
       "(6, 3.1415926536808043, -9.1011076112782062e-11)"
      ]
     },
     "execution_count": 8,
     "metadata": {},
     "output_type": "execute_result"
    }
   ],
   "source": [
    "newtraph(2, f, df, my_stop, my_nitmax)"
   ]
  },
  {
   "cell_type": "markdown",
   "metadata": {
    "ein.tags": [
     "worksheet-0"
    ]
   },
   "source": [
    "Método da Secante"
   ]
  },
  {
   "cell_type": "code",
   "execution_count": 9,
   "metadata": {
    "autoscroll": "json-false",
    "collapsed": false,
    "ein.tags": [
     "worksheet-0"
    ]
   },
   "outputs": [],
   "source": [
    "def secant(a, b, fun, eps, nitmax):\n",
    "    c = (a * fun(b) - b * fun(a)) / (fun(b) - fun(a))\n",
    "    it = 1\n",
    "    while np.abs(fun(c)) > eps and it < nitmax:\n",
    "        a = b\n",
    "        b = c\n",
    "        c = (a * fun(b) - b * fun(a)) / (fun(b) - fun(a))\n",
    "        it += 1\n",
    "    return it, c, fun(c)"
   ]
  },
  {
   "cell_type": "code",
   "execution_count": 10,
   "metadata": {
    "autoscroll": "json-false",
    "collapsed": false,
    "ein.tags": [
     "worksheet-0"
    ]
   },
   "outputs": [
    {
     "data": {
      "text/plain": [
       "(3, 3.1415903579556947, 2.2956340984908623e-06)"
      ]
     },
     "execution_count": 10,
     "metadata": {},
     "output_type": "execute_result"
    }
   ],
   "source": [
    "secant(2, 4, f, my_stop, my_nitmax)"
   ]
  },
  {
   "cell_type": "code",
   "execution_count": 11,
   "metadata": {
    "autoscroll": "json-false",
    "collapsed": false,
    "ein.tags": [
     "worksheet-0"
    ]
   },
   "outputs": [],
   "source": [
    "def bi2(a, b, fun, eps, nitmax, cdif):\n",
    "    c = (a + b) / 2\n",
    "    c_prev = a\n",
    "    it = 1\n",
    "    while not((np.abs(fun(c)) < eps and np.abs(c - c_prev) < cdif) or it > nitmax):\n",
    "        if fun(a)*fun(c) < 0: b = c\n",
    "        else: a = c\n",
    "        c_prev = c\n",
    "        c = (a + b) / 2\n",
    "        it += 1\n",
    "    return it, c, fun(c), c_prev, fun(c_prev), (c - c_prev)"
   ]
  },
  {
   "cell_type": "code",
   "execution_count": 12,
   "metadata": {
    "autoscroll": "json-false",
    "collapsed": false,
    "ein.tags": [
     "worksheet-0"
    ]
   },
   "outputs": [
    {
     "data": {
      "text/plain": [
       "(21,\n",
       " 3.1415929794311523,\n",
       " -3.2584135910528161e-07,\n",
       " 3.141592025756836,\n",
       " 6.2783295730092144e-07,\n",
       " 9.5367431640625e-07)"
      ]
     },
     "execution_count": 12,
     "metadata": {},
     "output_type": "execute_result"
    }
   ],
   "source": [
    "bi2(2, 4, f, my_stop, my_nitmax, my_cdif)"
   ]
  },
  {
   "cell_type": "code",
   "execution_count": 13,
   "metadata": {
    "autoscroll": "json-false",
    "collapsed": false,
    "ein.tags": [
     "worksheet-0"
    ]
   },
   "outputs": [],
   "source": [
    "def regfalsi2(a, b, fun, eps, nitmax, cdif):\n",
    "    c = (a * fun(b) - b * fun(a)) / (fun(b) - fun(a))\n",
    "    c_prev = c + cdif/2\n",
    "    it = 1\n",
    "    while not((np.abs(fun(c)) < eps and np.abs(c - c_prev) < cdif) or it > nitmax):\n",
    "        if fun(a) * fun(c) < 0: b = c\n",
    "        else: a = c\n",
    "        c_prev = c\n",
    "        c = (a * fun(b) - b * fun(a)) / (fun(b) - fun(a))\n",
    "        it += 1\n",
    "    return it, c, fun(c), c_prev, fun(c_prev), (c - c_prev)"
   ]
  },
  {
   "cell_type": "code",
   "execution_count": 14,
   "metadata": {
    "autoscroll": "json-false",
    "collapsed": false,
    "ein.tags": [
     "worksheet-0"
    ]
   },
   "outputs": [
    {
     "data": {
      "text/plain": [
       "(5,\n",
       " 3.1415926535897931,\n",
       " 1.2246467991473532e-16,\n",
       " 3.1415926536048882,\n",
       " -1.5094913867333564e-11,\n",
       " -1.5095036332013478e-11)"
      ]
     },
     "execution_count": 14,
     "metadata": {},
     "output_type": "execute_result"
    }
   ],
   "source": [
    "regfalsi2(2, 4, f, my_stop, my_nitmax, my_cdif)"
   ]
  },
  {
   "cell_type": "code",
   "execution_count": 15,
   "metadata": {
    "autoscroll": "json-false",
    "collapsed": false,
    "ein.tags": [
     "worksheet-0"
    ]
   },
   "outputs": [],
   "source": [
    "def newtraph2(c0, fun, dfun, eps, nitmax, cdif):\n",
    "    c = c0\n",
    "    c_prev = c + cdif/2\n",
    "    it = 1\n",
    "    while not((np.abs(fun(c)) < eps and np.abs(c - c_prev) < cdif) or it > nitmax):\n",
    "        c_prev = c\n",
    "        c = c - fun(c) / dfun(c)\n",
    "        it += 1\n",
    "    return it, c, fun(c), c_prev, fun(c_prev), (c - c_prev)"
   ]
  },
  {
   "cell_type": "code",
   "execution_count": 16,
   "metadata": {
    "autoscroll": "json-false",
    "collapsed": false,
    "ein.tags": [
     "worksheet-0"
    ]
   },
   "outputs": [
    {
     "data": {
      "text/plain": [
       "(7,\n",
       " 3.1415926535897931,\n",
       " 1.2246467991473532e-16,\n",
       " 3.1415926536808043,\n",
       " -9.1011076112782062e-11,\n",
       " -9.1011198577461982e-11)"
      ]
     },
     "execution_count": 16,
     "metadata": {},
     "output_type": "execute_result"
    }
   ],
   "source": [
    "newtraph2(2, f, df, my_stop, my_nitmax, my_cdif)"
   ]
  },
  {
   "cell_type": "code",
   "execution_count": 17,
   "metadata": {
    "autoscroll": "json-false",
    "collapsed": false,
    "ein.tags": [
     "worksheet-0"
    ]
   },
   "outputs": [],
   "source": [
    "def secant2(a, b, fun, eps, nitmax, cdif):\n",
    "    c = (a * fun(b) - b * fun(a)) / (fun(b) - fun(a))\n",
    "    c_prev = c + cdif/2\n",
    "    it = 1\n",
    "    while not((np.abs(fun(c)) < eps and np.abs(c - c_prev) < cdif) or it > nitmax):\n",
    "        a = b\n",
    "        b = c\n",
    "        c_prev = c\n",
    "        c = (a * fun(b) - b * fun(a)) / (fun(b) - fun(a))\n",
    "        it += 1\n",
    "    return it, c, fun(c), c_prev, fun(c_prev), (c - c_prev)"
   ]
  },
  {
   "cell_type": "code",
   "execution_count": 18,
   "metadata": {
    "autoscroll": "json-false",
    "collapsed": false,
    "ein.tags": [
     "worksheet-0"
    ]
   },
   "outputs": [
    {
     "data": {
      "text/plain": [
       "(5,\n",
       " 3.1415926535897931,\n",
       " 1.2246467991473532e-16,\n",
       " 3.1415926536048882,\n",
       " -1.5094913867333564e-11,\n",
       " -1.5095036332013478e-11)"
      ]
     },
     "execution_count": 18,
     "metadata": {},
     "output_type": "execute_result"
    }
   ],
   "source": [
    "secant2(2, 4, f, my_stop, my_nitmax, my_cdif)"
   ]
  },
  {
   "cell_type": "markdown",
   "metadata": {
    "ein.tags": [
     "worksheet-0"
    ]
   },
   "source": [
    "## Exercício 2 ##\n",
    "\n",
    "$f(x) = x + e^{-k x^{2}}$"
   ]
  },
  {
   "cell_type": "code",
   "execution_count": 107,
   "metadata": {
    "autoscroll": "json-false",
    "collapsed": false,
    "ein.tags": [
     "worksheet-0"
    ]
   },
   "outputs": [],
   "source": [
    "from scipy.misc import derivative\n",
    "\n",
    "\n",
    "def newtraphd(c0, fun, eps, nitmax):\n",
    "    c = c0\n",
    "    dfun = lambda x: derivative(fun, x, 0.0001)\n",
    "    it = 1\n",
    "    while np.abs(fun(c)) > eps and it < nitmax:\n",
    "        c = c - (fun(c) / dfun(c))\n",
    "        it += 1\n",
    "    return it, c, fun(c), dfun(c)"
   ]
  },
  {
   "cell_type": "code",
   "execution_count": 97,
   "metadata": {
    "autoscroll": "json-false",
    "collapsed": false,
    "ein.tags": [
     "worksheet-0"
    ]
   },
   "outputs": [],
   "source": [
    "f2 = lambda x, k: x + np.e ** (-k * x**2) * np.cos(x)"
   ]
  },
  {
   "cell_type": "code",
   "execution_count": 105,
   "metadata": {
    "autoscroll": "json-false",
    "collapsed": false,
    "ein.tags": [
     "worksheet-0"
    ]
   },
   "outputs": [
    {
     "data": {
      "text/plain": [
       "(15, -0.5883681212998364, 7.0172442686589065e-05)"
      ]
     },
     "execution_count": 105,
     "metadata": {},
     "output_type": "execute_result"
    }
   ],
   "source": [
    "f2_k1 = lambda x: f2(x, 1)\n",
    "newtraph(0, f2_k1, df2_k1, 1e-4, my_nitmax)"
   ]
  },
  {
   "cell_type": "code",
   "execution_count": 122,
   "metadata": {
    "autoscroll": "json-false",
    "collapsed": false,
    "ein.tags": [
     "worksheet-0"
    ]
   },
   "outputs": [
    {
     "name": "stdout",
     "output_type": "stream",
     "text": [
      "(1, 0, 1.0, 0.99999999999988987)\n",
      "(2, -1.0000000000001101, -1.0000000000001101, 0.99999999999988987)\n",
      "(3, 1.1013412404281553e-13, 1.0000000000001101, 0.99999999998934275)\n",
      "(4, -1.0000000000106573, -1.0000000000106573, 0.99999999999988987)\n",
      "(5, 1.1013412404281553e-13, 1.0000000000001101, 0.99999999998934275)\n",
      "(6, -1.0000000000106573, -1.0000000000106573, 0.99999999999988987)\n",
      "(7, 1.1013412404281553e-13, 1.0000000000001101, 0.99999999998934275)\n",
      "(8, -1.0000000000106573, -1.0000000000106573, 0.99999999999988987)\n",
      "(9, 1.1013412404281553e-13, 1.0000000000001101, 0.99999999998934275)\n",
      "(10, -1.0000000000106573, -1.0000000000106573, 0.99999999999988987)\n"
     ]
    }
   ],
   "source": [
    "f2_k50 = lambda x: f2(x, 50)\n",
    "for i in range(1, 10+1): print(newtraphd(0, f2_k50, 1e-4, i))"
   ]
  },
  {
   "cell_type": "code",
   "execution_count": 123,
   "metadata": {
    "autoscroll": "json-false",
    "collapsed": false,
    "ein.tags": [
     "worksheet-0"
    ]
   },
   "outputs": [
    {
     "name": "stdout",
     "output_type": "stream",
     "text": [
      "(1, -0.1, 0.50350053278289919, 7.0955553139445682)\n",
      "(2, -0.17095998981128269, 0.057578346024847515, 4.9465471855514309)\n",
      "(3, -0.18260009832839749, 0.003047567616852459, 4.424209558854808)\n",
      "(4, -0.18328893722183393, 1.0527388237396851e-05, 4.3936547460581012)\n",
      "(4, -0.18328893722183393, 1.0527388237396851e-05, 4.3936547460581012)\n",
      "(4, -0.18328893722183393, 1.0527388237396851e-05, 4.3936547460581012)\n",
      "(4, -0.18328893722183393, 1.0527388237396851e-05, 4.3936547460581012)\n",
      "(4, -0.18328893722183393, 1.0527388237396851e-05, 4.3936547460581012)\n",
      "(4, -0.18328893722183393, 1.0527388237396851e-05, 4.3936547460581012)\n",
      "(4, -0.18328893722183393, 1.0527388237396851e-05, 4.3936547460581012)\n"
     ]
    }
   ],
   "source": [
    "for i in range(1, 10+1): print(newtraphd(-0.1, f2_k50, 1e-4, i))"
   ]
  }
 ],
 "metadata": {
  "kernelspec": {
   "display_name": "Python 3",
   "name": "python3"
  },
  "language_info": {
   "codemirror_mode": {
    "name": "ipython",
    "version": 3
   },
   "file_extension": ".py",
   "mimetype": "text/x-python",
   "name": "python",
   "nbconvert_exporter": "python",
   "pygments_lexer": "ipython3",
   "version": "3.4.3+"
  },
  "name": "Ficha 2.ipynb"
 },
 "nbformat": 4,
 "nbformat_minor": 0
}
