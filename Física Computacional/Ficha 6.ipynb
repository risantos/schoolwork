{
 "cells": [
  {
   "cell_type": "markdown",
   "metadata": {
    "ein.tags": [
     "worksheet-0"
    ]
   },
   "source": [
    "##### Departamento de Física - Faculdade de Ciências e Tecnologia da Universidade de Coimbra #####\n",
    "# Física Computacional - Ficha 6 - Diagonalização de Matrizes #\n",
    "### Rafael Isaque Santos - 2012144694 - Licenciatura em Física ###"
   ]
  },
  {
   "cell_type": "code",
   "execution_count": 78,
   "metadata": {
    "autoscroll": "json-false",
    "collapsed": false,
    "ein.tags": [
     "worksheet-0"
    ]
   },
   "outputs": [],
   "source": [
    "import numpy as np\n",
    "import numpy.linalg\n",
    "import matplotlib.pyplot as pl\n",
    "%matplotlib inline"
   ]
  },
  {
   "cell_type": "code",
   "execution_count": 131,
   "metadata": {
    "autoscroll": "json-false",
    "collapsed": false,
    "ein.tags": [
     "worksheet-0"
    ]
   },
   "outputs": [],
   "source": [
    "def npower(matrix, k):          # método da potência n-ésima para um\n",
    "    x = np.array([1, 0, 0])\n",
    "    print(0, x, x.transpose().dot(matrix).dot(x))\n",
    "    for i in range(k):\n",
    "        x = matrix.dot(x)\n",
    "        x_norm = linalg.norm(x)\n",
    "        xk = x / x_norm\n",
    "        eig = xk.transpose().dot(A).dot(xk)\n",
    "        print(i+1, xk, eig)\n",
    "    return xk, eig"
   ]
  },
  {
   "cell_type": "code",
   "execution_count": 133,
   "metadata": {
    "autoscroll": "json-false",
    "collapsed": false,
    "ein.tags": [
     "worksheet-0"
    ]
   },
   "outputs": [],
   "source": [
    "def npower_eps(matrix, lambda_diff):\n",
    "    x0 = np.array([1, 0, 0])\n",
    "    xk = matrix.dot(x)\n",
    "    xk = xk / linalg.norm(xk)\n",
    "    k = 1\n",
    "    def eig(vector): return vector.transpose().dot(matrix).dot(vector)\n",
    "    print(k, eig(xk))\n",
    "    while np.abs(eig(xk) - eig(x0)) > lambda_diff:\n",
    "        x0 = xk\n",
    "        xk = matrix.dot(xk)\n",
    "        xk = xk / linalg.norm(xk)\n",
    "        k += 1\n",
    "        if k%2 != 0: print(k, eig(xk))\n",
    "    return k, eig(xk), xk, eig(x0), x0, np.abs(eig(x0) - eig(xk))"
   ]
  },
  {
   "cell_type": "markdown",
   "metadata": {
    "ein.tags": [
     "worksheet-0"
    ]
   },
   "source": [
    "#### Estimativa de $\\lambda$ em cada iteração ímpar: ####\n",
    "Abaixo, número de iterações necessárias, valor próprio encontrado ao final, vector próprio associado, valor próprio do passo anterior e seu vector próprio, e diferença entre último e penúltimo vectores próprios encontrados."
   ]
  },
  {
   "cell_type": "code",
   "execution_count": 134,
   "metadata": {
    "autoscroll": "json-false",
    "collapsed": false,
    "ein.tags": [
     "worksheet-0"
    ]
   },
   "outputs": [
    {
     "data": {
      "text/plain": [
       "(12,\n",
       " 2.5365240675056864,\n",
       " array([ 0.53206175,  0.46220525,  0.7094199 ]),\n",
       " 2.5365205948964937,\n",
       " array([ 0.53247398,  0.46272715,  0.70877009]),\n",
       " 3.4726091926451375e-06)"
      ]
     },
     "execution_count": 134,
     "metadata": {},
     "output_type": "execute_result"
    },
    {
     "name": "stdout",
     "output_type": "stream",
     "text": [
      "1 2.33333333333\n",
      "3 2.50816648772\n",
      "5 2.5331579533\n",
      "7 2.5361342826\n",
      "9 2.53648044612\n",
      "11 2.5365205949\n"
     ]
    }
   ],
   "source": [
    "npower_eps(A, 1e-5)"
   ]
  },
  {
   "cell_type": "markdown",
   "metadata": {
    "ein.tags": [
     "worksheet-0"
    ]
   },
   "source": [
    "**Cálculo utilizando o método sem critério de parada, mas em vez disso, em função do k**\n",
    "Retornando:\n",
    "+ Iteração\n",
    "+ Vector Normalizado\n",
    "+ Valor próprio"
   ]
  },
  {
   "cell_type": "code",
   "execution_count": 132,
   "metadata": {
    "autoscroll": "json-false",
    "collapsed": false,
    "ein.tags": [
     "worksheet-0"
    ]
   },
   "outputs": [
    {
     "data": {
      "text/plain": [
       "(array([ 0.54584763,  0.47976191,  0.6869344 ]), 2.5353766745109372)"
      ]
     },
     "execution_count": 132,
     "metadata": {},
     "output_type": "execute_result"
    },
    {
     "name": "stdout",
     "output_type": "stream",
     "text": [
      "0 [1 0 0] 1.0\n",
      "1 [ 0.66666667  0.66666667  0.33333333] 2.33333333333\n",
      "2 [ 0.6328463   0.59768817  0.49221379] 2.45735475896\n",
      "3 [ 0.59709395  0.54733612  0.58643156] 2.50816648772\n",
      "4 [ 0.57186238  0.51354514  0.63972244] 2.52669547532\n",
      "5 [ 0.55572103  0.49247561  0.66980737] 2.5331579533\n",
      "6 [ 0.54584763  0.47976191  0.6869344 ] 2.53537667451\n"
     ]
    }
   ],
   "source": [
    "npower(A, 6)"
   ]
  },
  {
   "cell_type": "code",
   "execution_count": 39,
   "metadata": {
    "autoscroll": "json-false",
    "collapsed": false,
    "ein.tags": [
     "worksheet-0"
    ]
   },
   "outputs": [],
   "source": [
    "A = np.array([[1., 1, 1/2], [1, 1, 1/4], [1/2, 1/4, 2]])"
   ]
  },
  {
   "cell_type": "code",
   "execution_count": 110,
   "metadata": {
    "autoscroll": "json-false",
    "collapsed": false,
    "ein.tags": [
     "worksheet-0"
    ]
   },
   "outputs": [
    {
     "data": {
      "text/plain": [
       "(array([ 0.53206175,  0.46220525,  0.7094199 ]), 2.5365240675056864)"
      ]
     },
     "execution_count": 110,
     "metadata": {},
     "output_type": "execute_result"
    },
    {
     "name": "stdout",
     "output_type": "stream",
     "text": [
      "1 2.33333333333 [ 0.66666667  0.66666667  0.33333333]\n",
      "2 2.45735475896 [ 0.6328463   0.59768817  0.49221379]\n",
      "3 2.50816648772 [ 0.59709395  0.54733612  0.58643156]\n",
      "4 2.52669547532 [ 0.57186238  0.51354514  0.63972244]\n",
      "5 2.5331579533 [ 0.55572103  0.49247561  0.66980737]\n",
      "6 2.53537667451 [ 0.54584763  0.47976191  0.6869344 ]\n",
      "7 2.5361342826 [ 0.53993856  0.47221     0.69676687]\n",
      "8 2.53639249588 [ 0.53644173  0.46775999  0.70244634]\n",
      "9 2.53648044612 [ 0.53438498  0.46514898  0.70574012]\n",
      "10 2.53651039645 [ 0.53317934  0.46362061  0.70765509]\n",
      "11 2.5365205949 [ 0.53247398  0.46272715  0.70877009]\n",
      "12 2.53652406751 [ 0.53206175  0.46220525  0.7094199 ]\n"
     ]
    }
   ],
   "source": [
    "npower(A, 12)"
   ]
  },
  {
   "cell_type": "markdown",
   "metadata": {
    "ein.tags": [
     "worksheet-0"
    ]
   },
   "source": [
    "# Cálculo de Valores e Vectores Próprios utilizando uma função interna do __numpy__"
   ]
  },
  {
   "cell_type": "code",
   "execution_count": 109,
   "metadata": {
    "autoscroll": "json-false",
    "collapsed": false,
    "ein.tags": [
     "worksheet-0"
    ]
   },
   "outputs": [
    {
     "data": {
      "text/plain": [
       "(array([-0.01664728,  2.53652586,  1.48012142]),\n",
       " array([[ 0.72120713, -0.53148341, -0.44428106],\n",
       "        [-0.68634929, -0.46147335, -0.56210942],\n",
       "        [-0.09372796, -0.71032931,  0.69760113]]))"
      ]
     },
     "execution_count": 109,
     "metadata": {},
     "output_type": "execute_result"
    }
   ],
   "source": [
    "np.linalg.eig(A)"
   ]
  }
 ],
 "metadata": {
  "_draft": {
   "nbviewer_url": "https://gist.github.com/a6e6bfb57576d19192a6b7eab1859434"
  },
  "gist": {
   "data": {
    "description": "Dropbox/schoolwork/Física Computacional/Ficha 6.ipynb",
    "public": false
   },
   "id": "a6e6bfb57576d19192a6b7eab1859434"
  },
  "kernelspec": {
   "display_name": "Python 3",
   "language": "python",
   "name": "python3"
  },
  "language_info": {
   "codemirror_mode": {
    "name": "ipython",
    "version": 3
   },
   "file_extension": ".py",
   "mimetype": "text/x-python",
   "name": "python",
   "nbconvert_exporter": "python",
   "pygments_lexer": "ipython3",
   "version": "3.4.3+"
  },
  "name": "Ficha 6.ipynb"
 },
 "nbformat": 4,
 "nbformat_minor": 0
}
