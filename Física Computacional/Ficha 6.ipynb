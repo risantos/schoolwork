{
 "cells": [
  {
   "cell_type": "markdown",
   "metadata": {
    "ein.tags": [
     "worksheet-0"
    ]
   },
   "source": [
    "##### Departamento de Física - Faculdade de Ciências e Tecnologia da Universidade de Coimbra #####\n",
    "# Física Computacional - Ficha 6 - Diagonalização de Matrizes #\n",
    "### Rafael Isaque Santos - 2012144694 - Licenciatura em Física ###"
   ]
  },
  {
   "cell_type": "code",
   "execution_count": 1,
   "metadata": {
    "autoscroll": "json-false",
    "collapsed": false,
    "ein.tags": [
     "worksheet-0"
    ]
   },
   "outputs": [],
   "source": [
    "import numpy as np\n",
    "import numpy.linalg as linalg\n",
    "import matplotlib.pyplot as pl\n",
    "%matplotlib inline"
   ]
  },
  {
   "cell_type": "code",
   "execution_count": 2,
   "metadata": {
    "autoscroll": "json-false",
    "collapsed": false,
    "ein.tags": [
     "worksheet-0"
    ]
   },
   "outputs": [],
   "source": [
    "def npower(matrix, k):          # método da potência n-ésima para um\n",
    "    x = np.array([1, 0, 0])\n",
    "    print(0, x, x.transpose() @ matrix @ x)\n",
    "    for i in range(k):\n",
    "        x = matrix @ x\n",
    "        x_norm = linalg.norm(x)\n",
    "        xk = x / x_norm\n",
    "        eig = xk.transpose() @ A @ xk\n",
    "        print(i+1, xk, eig)\n",
    "    return xk, eig"
   ]
  },
  {
   "cell_type": "code",
   "execution_count": 3,
   "metadata": {
    "autoscroll": "json-false",
    "collapsed": false,
    "ein.tags": [
     "worksheet-0"
    ]
   },
   "outputs": [],
   "source": [
    "def npower_eps(matrix, lambda_diff):\n",
    "    x0 = np.array([1, 0, 0])\n",
    "    xk = matrix @ x0\n",
    "    xk = xk / linalg.norm(xk)\n",
    "    k = 1\n",
    "    def eig(vector): return vector.transpose() @ matrix @ vector\n",
    "    print(k, eig(xk))\n",
    "    while np.abs(eig(xk) - eig(x0)) > lambda_diff:\n",
    "        x0 = xk\n",
    "        xk = matrix @ xk\n",
    "        xk /= linalg.norm(xk)\n",
    "        k += 1\n",
    "        if k%2 != 0: print(k, eig(xk))\n",
    "    return k, eig(xk), xk, eig(x0), x0, np.abs(eig(x0) - eig(xk))"
   ]
  },
  {
   "cell_type": "code",
   "execution_count": 4,
   "metadata": {
    "autoscroll": "json-false",
    "collapsed": false,
    "ein.tags": [
     "worksheet-0"
    ]
   },
   "outputs": [],
   "source": [
    "A = np.array([[1., 1, 1/2], [1, 1, 1/4], [1/2, 1/4, 2]])"
   ]
  },
  {
   "cell_type": "markdown",
   "metadata": {
    "ein.tags": [
     "worksheet-0"
    ]
   },
   "source": [
    "#### Estimativa de $\\lambda$ em cada iteração ímpar: ####\n",
    "Abaixo, número de iterações necessárias, valor próprio encontrado ao final, vector próprio associado, valor próprio do passo anterior e seu vector próprio, e diferença entre último e penúltimo vectores próprios encontrados."
   ]
  },
  {
   "cell_type": "code",
   "execution_count": 5,
   "metadata": {
    "autoscroll": "json-false",
    "collapsed": false,
    "ein.tags": [
     "worksheet-0"
    ]
   },
   "outputs": [
    {
     "name": "stdout",
     "output_type": "stream",
     "text": [
      "1 2.33333333333\n",
      "3 2.50816648772\n",
      "5 2.5331579533\n",
      "7 2.5361342826\n",
      "9 2.53648044612\n",
      "11 2.5365205949\n"
     ]
    },
    {
     "data": {
      "text/plain": [
       "(12,\n",
       " 2.5365240675056864,\n",
       " array([ 0.53206175,  0.46220525,  0.7094199 ]),\n",
       " 2.5365205948964937,\n",
       " array([ 0.53247398,  0.46272715,  0.70877009]),\n",
       " 3.4726091926451375e-06)"
      ]
     },
     "execution_count": 5,
     "metadata": {},
     "output_type": "execute_result"
    }
   ],
   "source": [
    "npower_eps(A, 1e-5)"
   ]
  },
  {
   "cell_type": "markdown",
   "metadata": {
    "ein.tags": [
     "worksheet-0"
    ]
   },
   "source": [
    "**Cálculo utilizando o método sem critério de parada, mas em vez disso, em função do k**\n",
    "Retornando:\n",
    "+ Iteração\n",
    "+ Vector Normalizado\n",
    "+ Valor próprio"
   ]
  },
  {
   "cell_type": "code",
   "execution_count": 6,
   "metadata": {
    "autoscroll": "json-false",
    "collapsed": false,
    "ein.tags": [
     "worksheet-0"
    ]
   },
   "outputs": [
    {
     "name": "stdout",
     "output_type": "stream",
     "text": [
      "0 [1 0 0] 1.0\n",
      "1 [ 0.66666667  0.66666667  0.33333333] 2.33333333333\n",
      "2 [ 0.6328463   0.59768817  0.49221379] 2.45735475896\n",
      "3 [ 0.59709395  0.54733612  0.58643156] 2.50816648772\n",
      "4 [ 0.57186238  0.51354514  0.63972244] 2.52669547532\n",
      "5 [ 0.55572103  0.49247561  0.66980737] 2.5331579533\n",
      "6 [ 0.54584763  0.47976191  0.6869344 ] 2.53537667451\n"
     ]
    },
    {
     "data": {
      "text/plain": [
       "(array([ 0.54584763,  0.47976191,  0.6869344 ]), 2.5353766745109372)"
      ]
     },
     "execution_count": 6,
     "metadata": {},
     "output_type": "execute_result"
    }
   ],
   "source": [
    "npower(A, 6)"
   ]
  },
  {
   "cell_type": "code",
   "execution_count": 7,
   "metadata": {
    "autoscroll": "json-false",
    "collapsed": false,
    "ein.tags": [
     "worksheet-0"
    ]
   },
   "outputs": [
    {
     "name": "stdout",
     "output_type": "stream",
     "text": [
      "0 [1 0 0] 1.0\n",
      "1 [ 0.66666667  0.66666667  0.33333333] 2.33333333333\n",
      "2 [ 0.6328463   0.59768817  0.49221379] 2.45735475896\n",
      "3 [ 0.59709395  0.54733612  0.58643156] 2.50816648772\n",
      "4 [ 0.57186238  0.51354514  0.63972244] 2.52669547532\n",
      "5 [ 0.55572103  0.49247561  0.66980737] 2.5331579533\n",
      "6 [ 0.54584763  0.47976191  0.6869344 ] 2.53537667451\n",
      "7 [ 0.53993856  0.47221     0.69676687] 2.5361342826\n",
      "8 [ 0.53644173  0.46775999  0.70244634] 2.53639249588\n",
      "9 [ 0.53438498  0.46514898  0.70574012] 2.53648044612\n",
      "10 [ 0.53317934  0.46362061  0.70765509] 2.53651039645\n",
      "11 [ 0.53247398  0.46272715  0.70877009] 2.5365205949\n",
      "12 [ 0.53206175  0.46220525  0.7094199 ] 2.53652406751\n"
     ]
    },
    {
     "data": {
      "text/plain": [
       "(array([ 0.53206175,  0.46220525,  0.7094199 ]), 2.5365240675056864)"
      ]
     },
     "execution_count": 7,
     "metadata": {},
     "output_type": "execute_result"
    }
   ],
   "source": [
    "npower(A, 12)"
   ]
  },
  {
   "cell_type": "markdown",
   "metadata": {
    "ein.tags": [
     "worksheet-0"
    ]
   },
   "source": [
    "# Cálculo de Valores e Vectores Próprios utilizando uma função interna do __numpy__"
   ]
  },
  {
   "cell_type": "code",
   "execution_count": 8,
   "metadata": {
    "autoscroll": "json-false",
    "collapsed": false,
    "ein.tags": [
     "worksheet-0"
    ]
   },
   "outputs": [
    {
     "data": {
      "text/plain": [
       "(array([-0.01664728,  2.53652586,  1.48012142]),\n",
       " array([[ 0.72120713, -0.53148341, -0.44428106],\n",
       "        [-0.68634929, -0.46147335, -0.56210942],\n",
       "        [-0.09372796, -0.71032931,  0.69760113]]))"
      ]
     },
     "execution_count": 8,
     "metadata": {},
     "output_type": "execute_result"
    }
   ],
   "source": [
    "linalg.eig(A)"
   ]
  },
  {
   "cell_type": "markdown",
   "metadata": {
    "ein.tags": [
     "worksheet-0"
    ]
   },
   "source": [
    "Exercício 2 - Método de Jacobi Cíclico"
   ]
  },
  {
   "cell_type": "code",
   "execution_count": 9,
   "metadata": {
    "autoscroll": "json-false",
    "collapsed": false,
    "ein.tags": [
     "worksheet-0"
    ]
   },
   "outputs": [],
   "source": [
    "def jacobi(A_i, eps, nitmax):\n",
    "    A = np.copy(A_i)            # para cortar dependências\n",
    "    m = len(A)\n",
    "    iteration = 0\n",
    "    Q = np.identity(m)\n",
    "    def off(mat):\n",
    "        off_sum = 0\n",
    "        for i in range(m):\n",
    "            for j in range(m):\n",
    "                if j != i: off_sum += mat[i, j]**2\n",
    "        return np.sqrt(off_sum)\n",
    "    def frobenius_norm(mat):\n",
    "        norm = 0\n",
    "        for i in range(m):\n",
    "            for j in range(m):\n",
    "                norm += mat[i, j]**2\n",
    "        return np.sqrt(norm)\n",
    "    while (off(A) > eps and iteration < nitmax):\n",
    "        j, k, ajk = 0, 0, 0.\n",
    "        for ji in range(m-1):\n",
    "            for ki in range(ji+1, m):\n",
    "                absjk = abs(A[ji, ki])\n",
    "                if absjk >= ajk:\n",
    "                    j, k, ajk = ji, ki, absjk\n",
    "        def CSjk(mati, j, k):\n",
    "            mat = np.copy(mati)\n",
    "            if mat[j, j] == mat[k, k]:\n",
    "                C, S = np.cos(np.pi / 4), np.sin(np.pi / 4)\n",
    "            else:\n",
    "                tau = 2*mat[j, k] / (mat[k, k] - mat[j, j])\n",
    "                chi = 1 / np.sqrt(1 + tau**2)\n",
    "                C = np.sqrt((1 + chi) / 2)\n",
    "                S = np.sign(tau) * np.sqrt((1 - chi) / 2)\n",
    "            return C, S\n",
    "        C, S = CSjk(A, j, k)\n",
    "        A_l = np.zeros_like(A)\n",
    "        for r in range(m):\n",
    "            if r != j and r != k:\n",
    "                A_l[r, j] = C * A[r, j] - S * A[r, k]\n",
    "                A_l[j, r] = C * A[r, j] - S * A[r, k]\n",
    "                A_l[r, k] = S * A[r, j] + C * A[r, k]\n",
    "                A_l[k, r] = S * A[r, j] + C * A[r, k]\n",
    "                for s in range(m):\n",
    "                    if s != j and s != k:\n",
    "                        A_l[r, s] = np.copy(A[r, s])\n",
    "\n",
    "        A_l[j, j] = np.copy((C**2 * A[j, j]) + (S**2 * A[k, k]) - (2 * S * C * A[j, k]))\n",
    "        A_l[j, k] = S * C * (A[j, j] - A[k, k]) + ((C**2 - S**2) * A[j, k])\n",
    "        # A_l[j, k] = 0\n",
    "        A_l[k, j] = np.copy(A_l[j, k])\n",
    "        A_l[k, k] = np.copy((S**2 * A[j, j]) + (C**2 * A[k, k]) + (2 * S * C * A[j, k]))\n",
    "        A = A_l\n",
    "        Q_l = np.zeros_like(Q)\n",
    "        for r in range(m):\n",
    "            for s in range(m):\n",
    "                if s != j and s!= k:\n",
    "                    Q_l[r, s] = np.copy(Q[r, s])\n",
    "            Q_l[r, j] = C * Q[r, j] - S * Q[r, k]\n",
    "            Q_l[r, k] = S * Q[r, j] + C * Q[r, k]\n",
    "        Q = Q_l\n",
    "        iteration += 1\n",
    "        \n",
    "    D = Q.transpose().dot(A_i).dot(Q)\n",
    "    return A, off(A), D, Q, iteration, off(A_i), frobenius_norm(A_i)"
   ]
  },
  {
   "cell_type": "code",
   "execution_count": 10,
   "metadata": {
    "autoscroll": "json-false",
    "collapsed": false,
    "ein.tags": [
     "worksheet-0"
    ]
   },
   "outputs": [
    {
     "name": "stdout",
     "output_type": "stream",
     "text": [
      "D:\n",
      "[[ -1.66472836e-02  -2.98892952e-06   1.44163999e-13]\n",
      " [ -2.98892952e-06   1.48012142e+00   6.02881598e-10]\n",
      " [  1.43976985e-13   6.02881783e-10   2.53652586e+00]]\n",
      "Q:\n",
      "[[ 0.72120624  0.4442825   0.53148341]\n",
      " [-0.68635041  0.56210805  0.46147335]\n",
      " [-0.09372657 -0.69760132  0.71032931]]\n",
      "Iterações: 6\n"
     ]
    }
   ],
   "source": [
    "a, oa, d, q, it, oi, fi = jacobi(A, 1e-4, 100)\n",
    "print('D:')\n",
    "print( d)\n",
    "print('Q:')\n",
    "print(q)\n",
    "print('Iterações:', it)\n"
   ]
  },
  {
   "cell_type": "code",
   "execution_count": 11,
   "metadata": {
    "autoscroll": "json-false",
    "collapsed": false,
    "ein.tags": [
     "worksheet-0"
    ]
   },
   "outputs": [
    {
     "data": {
      "text/plain": [
       "0.30434782608695654"
      ]
     },
     "execution_count": 11,
     "metadata": {},
     "output_type": "execute_result"
    }
   ],
   "source": [
    "oi**2 / fi**2"
   ]
  },
  {
   "cell_type": "code",
   "execution_count": 12,
   "metadata": {
    "autoscroll": "json-false",
    "collapsed": false,
    "ein.tags": [
     "worksheet-0"
    ]
   },
   "outputs": [
    {
     "data": {
      "text/plain": [
       "2.0715826182367514e-12"
      ]
     },
     "execution_count": 12,
     "metadata": {},
     "output_type": "execute_result"
    }
   ],
   "source": [
    "oa**2 / fi**2"
   ]
  },
  {
   "cell_type": "code",
   "execution_count": 13,
   "metadata": {
    "autoscroll": "json-false",
    "collapsed": false,
    "ein.tags": [
     "worksheet-0"
    ]
   },
   "outputs": [
    {
     "data": {
      "text/plain": [
       "(array([-0.01664728,  2.53652586,  1.48012142]),\n",
       " array([[ 0.72120713, -0.53148341, -0.44428106],\n",
       "        [-0.68634929, -0.46147335, -0.56210942],\n",
       "        [-0.09372796, -0.71032931,  0.69760113]]))"
      ]
     },
     "execution_count": 13,
     "metadata": {},
     "output_type": "execute_result"
    }
   ],
   "source": [
    "linalg.eig(A)"
   ]
  },
  {
   "cell_type": "code",
   "execution_count": 14,
   "metadata": {
    "autoscroll": "json-false",
    "collapsed": false,
    "ein.tags": [
     "worksheet-0"
    ]
   },
   "outputs": [
    {
     "data": {
      "text/plain": [
       "0.30434782608695654"
      ]
     },
     "execution_count": 14,
     "metadata": {},
     "output_type": "execute_result"
    }
   ],
   "source": [
    "oi**2 / 8.625"
   ]
  },
  {
   "cell_type": "code",
   "execution_count": 15,
   "metadata": {
    "autoscroll": "json-false",
    "collapsed": false,
    "ein.tags": [
     "worksheet-0"
    ]
   },
   "outputs": [
    {
     "data": {
      "text/plain": [
       "2.0715826182367514e-12"
      ]
     },
     "execution_count": 15,
     "metadata": {},
     "output_type": "execute_result"
    }
   ],
   "source": [
    "oa**2 / 8.625"
   ]
  },
  {
   "cell_type": "code",
   "execution_count": 16,
   "metadata": {
    "autoscroll": "json-false",
    "collapsed": false,
    "ein.tags": [
     "worksheet-0"
    ]
   },
   "outputs": [
    {
     "data": {
      "text/plain": [
       "0.70710678118654757"
      ]
     },
     "execution_count": 16,
     "metadata": {},
     "output_type": "execute_result"
    }
   ],
   "source": [
    "np.cos(np.pi/4)"
   ]
  },
  {
   "cell_type": "code",
   "execution_count": 17,
   "metadata": {
    "autoscroll": "json-false",
    "collapsed": false,
    "ein.tags": [
     "worksheet-0"
    ]
   },
   "outputs": [],
   "source": [
    "df_5pts = lambda f, x, h: (-3*f(x+4*h) + 16*f(x+3*h) - 36*f(x+2*h) + 48*f(x+h) - 25*f(x)) / (12*h)\n",
    "\n",
    "df2_5pts = lambda f, x, h: df_5pts(df_5pts, x, h)"
   ]
  },
  {
   "cell_type": "code",
   "execution_count": 18,
   "metadata": {
    "autoscroll": "json-false",
    "collapsed": false,
    "ein.tags": [
     "worksheet-0"
    ]
   },
   "outputs": [
    {
     "ename": "SyntaxError",
     "evalue": "invalid syntax (<ipython-input-18-6bfaf505d766>, line 2)",
     "output_type": "error",
     "traceback": [
      "\u001b[1;36m  File \u001b[1;32m\"<ipython-input-18-6bfaf505d766>\"\u001b[1;36m, line \u001b[1;32m2\u001b[0m\n\u001b[1;33m    if\u001b[0m\n\u001b[1;37m       ^\u001b[0m\n\u001b[1;31mSyntaxError\u001b[0m\u001b[1;31m:\u001b[0m invalid syntax\n"
     ]
    }
   ],
   "source": [
    "def ui(x):\n",
    "    if "
   ]
  },
  {
   "cell_type": "code",
   "execution_count": null,
   "metadata": {
    "autoscroll": "json-false",
    "collapsed": false,
    "ein.tags": [
     "worksheet-0"
    ]
   },
   "outputs": [],
   "source": [
    "def schrodingerpvp(xmin, xmax, subint, eps):\n",
    "    h = (xmax - xmin) / subint\n",
    "    xi = [xmin + i for i in range(subint)]\n",
    "    # ui = [lambda x: u(x) for x in xi]\n",
    "    D = np.zeros((subint-1, subint-1))\n",
    "    for i in range(subint-2):\n",
    "        D[i, i] = (2 / h**2) + xi[i]**2\n",
    "        if i==0: D[i, 1] = - 1 / h**2\n",
    "        elif i== subint-2: D[i, i-1] = - 1 / h**2\n",
    "        else:\n",
    "            D[i, i+1] = -1 / h**2\n",
    "            D[i, i-1] = -1 / h**2\n",
    "    Dt, odt, lam, vec, it, od, frobd = jacobi(D, eps, 100000)\n",
    "    return lam, vec, D"
   ]
  },
  {
   "cell_type": "code",
   "execution_count": null,
   "metadata": {
    "autoscroll": "json-false",
    "collapsed": false,
    "ein.tags": [
     "worksheet-0"
    ]
   },
   "outputs": [],
   "source": [
    "l, v, D = schrodingerpvp(-10, 10, 50, 1e-4)"
   ]
  },
  {
   "cell_type": "code",
   "execution_count": null,
   "metadata": {
    "autoscroll": "json-false",
    "collapsed": false,
    "ein.tags": [
     "worksheet-0"
    ]
   },
   "outputs": [],
   "source": [
    "linalg.eigvals(D)"
   ]
  }
 ],
 "metadata": {
  "kernelspec": {
   "display_name": "Python 3",
   "language": "python",
   "name": "python3"
  },
  "language_info": {
   "codemirror_mode": {
    "name": "ipython",
    "version": 3
   },
   "file_extension": ".py",
   "mimetype": "text/x-python",
   "name": "python",
   "nbconvert_exporter": "python",
   "pygments_lexer": "ipython3",
   "version": "3.5.1"
  },
  "name": "Ficha 6.ipynb"
 },
 "nbformat": 4,
 "nbformat_minor": 0
}
